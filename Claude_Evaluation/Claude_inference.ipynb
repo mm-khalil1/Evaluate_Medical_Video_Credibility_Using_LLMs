{
 "cells": [
  {
   "cell_type": "markdown",
   "metadata": {},
   "source": [
    "## **Import Utilities**"
   ]
  },
  {
   "cell_type": "code",
   "execution_count": null,
   "metadata": {},
   "outputs": [],
   "source": [
    "import pandas as pd\n",
    "import time\n",
    "import anthropic\n",
    "import sys\n",
    "import os\n",
    "\n",
    "sys.path.append(\"..\")  # Add the parent directory of LLM_Evaluations to the Python path\n",
    "from llm_evaluation_utils import load_responses_df, \\\n",
    "                        check_and_store_response,   \\\n",
    "                        build_question_prompt,      \\\n",
    "                        QUESTIONS, QUESTION_HEAD, QUESTION_TAIL\n",
    "\n",
    "api_key = os.environ.get(\"ANTHROPIC_API_KEY\")\n",
    "client = anthropic.Anthropic(api_key=api_key)\n",
    "\n",
    "model_name = \"claude-3-sonnet-20240229\"\n",
    "max_tokens = 200        # Max generated tokens\n",
    "temperature = 0.8\n"
   ]
  },
  {
   "cell_type": "markdown",
   "metadata": {},
   "source": [
    "## Test"
   ]
  },
  {
   "cell_type": "code",
   "execution_count": null,
   "metadata": {},
   "outputs": [],
   "source": [
    "transcript = \"Here you can see the anatomy of a normal, uninjured thumb. The synovial tendon sheath and the tendon are clearly shown. Inflammation of the tendon sheath is known as stenosing tinosinovitis. Stenosing tinosinovitis of the thumb, often referred to as trigger thumb, is one of the more common abnormalities of the hand. This condition is associated with painful triggering or locking of the thumb. When the patient tries to straighten the thumb, the nodule jams beneath the pulley proximally. This occurs with a painful snap, much like a trigger being pulled and released, with either flexion or extension of the thumb. Small changes in the tendon's diameter will have a significant effect on the function of the thumb. The nodule is usually pulled proximally to the pulley with active thumb flexion. That includes anti-inflammatory medication and injection. Inject into the sheath, not the tendon. Put the needle obliquely towards the tendon. Withdraw the needle slightly and inject freely into the sheath. Ultrasound guided injection of the tendon sheath and pulley may be of benefit. The needle is inserted into the sheath above the tendon and fluid is injected. If symptoms persist, consider surgery. Release the pulley to allow active motion without triggering. Note the position of the radial digital nerve close to the incision. Everything seems to be fine with this thumb, but there's definitely something tricky going on with this one. Hello doctor, got something crazy going on with my thumb. Can you take a look at it? Come right away. All my videos and this video is for educational purposes only. Please consult your doctor before you make any decision about your medical care.\"\n",
    "\n",
    "# system = \" \".join([QUESTION_HEAD, QUESTION_TAIL])\n",
    "# user = f\"Question: {QUESTIONS[4]}\\nTranscript: {transcript}\"\n",
    "prompt = f\"\"\"{QUESTION_HEAD} {QUESTIONS[4]} {QUESTION_HEAD}\n",
    "Transcript: {transcript}\"\"\"\n",
    "\n",
    "message = client.messages.create(\n",
    "    model=model_name,\n",
    "    max_tokens=250,\n",
    "    temperature=0.1,\n",
    "    # system=system,\n",
    "    messages=[\n",
    "        {\"role\": \"user\", \"content\": prompt},\n",
    "        {\"role\": \"assistant\", \"content\": \"Score: \"}\n",
    "    ]\n",
    ")\n",
    "\n",
    "print(message.content[0].text)"
   ]
  },
  {
   "cell_type": "markdown",
   "metadata": {},
   "source": [
    "## **Claude Responses**"
   ]
  },
  {
   "cell_type": "markdown",
   "metadata": {},
   "source": [
    "### Load Data"
   ]
  },
  {
   "cell_type": "code",
   "execution_count": null,
   "metadata": {},
   "outputs": [],
   "source": [
    "transcripts_dir = \"../../Getting_Transcripts\"\n",
    "transcripts_file_name = \"merged_filtered_videos_transcripts.csv\"\n",
    "responses_dir = \"../../../Results/LLMs_Responses\"\n",
    "\n",
    "prompt_type = \"COT_prompting\"\n",
    "topics = \"last_3_topics\"\n",
    "results_file_name = f\"{model_name}-{topics}-{prompt_type}\"\n",
    "\n",
    "responses_df = load_responses_df(transcripts_dir, transcripts_file_name, responses_dir, results_file_name)\n",
    "\n",
    "print(\"responses_df shape:\", responses_df.shape)\n",
    "responses_df.head(2)"
   ]
  },
  {
   "cell_type": "code",
   "execution_count": null,
   "metadata": {},
   "outputs": [],
   "source": [
    "experts_file = \"../../../Videos_and_DISCERN_data/filtered_experts_scores.csv\"\n",
    "experts_df = pd.read_csv(experts_file)\n",
    "\n",
    "responses_df.insert(2, \"Topic\", experts_df[\"Topic\"])\n",
    "responses_df = responses_df[responses_df['Topic'].isin([\"Cluster Headache\", \"Trigger Finger\", \"Pudendal Nerve\"])]\n",
    "# col_to_drop = [f\"Q{i}\" for i in range(6,16)] + [f\"Response_{i}\" for i in range(6,16)]\n",
    "# responses_df.drop(columns=col_to_drop, inplace=True)\n",
    "print(\"responses_df shape:\", responses_df.shape)\n",
    "responses_df.head(2)"
   ]
  },
  {
   "cell_type": "markdown",
   "metadata": {},
   "source": [
    "### Get Claude API Responses"
   ]
  },
  {
   "cell_type": "code",
   "execution_count": null,
   "metadata": {},
   "outputs": [],
   "source": [
    "def query_model(client, model_name, prompt, max_tokens=250, temperature=0.8):\n",
    "    \"\"\"Sends a prompt to the specified large language model and returns its response.\"\"\"\n",
    "    response = client.messages.create(\n",
    "        model=model_name,\n",
    "        max_tokens=max_tokens,\n",
    "        temperature=temperature,\n",
    "        # system=system,\n",
    "        messages=[\n",
    "            {\"role\": \"user\", \"content\": prompt},\n",
    "            {\"role\": \"assistant\", \"content\": \"Score:\"}      # tell the LLM what to start with \n",
    "        ]\n",
    "    )\n",
    "    return response.content[0].text\n",
    "\n",
    "print_response = False\n",
    "\n",
    "# Calculate the delay based on your rate limit\n",
    "requests_limit_per_minute = 50\n",
    "delay = 60.0 / requests_limit_per_minute\n",
    "\n",
    "for index, row in responses_df.iterrows():\n",
    "    video_id = row[\"Video ID\"]\n",
    "    transcript = row[\"Transcript\"]\n",
    "    print(f\"Started with video ID: {video_id} | Index: {index}\")\n",
    "\n",
    "    for question_num in range(1, len(QUESTIONS) + 1):\n",
    "        column_name = f\"Response_{question_num}\"\n",
    "        if pd.isna(row[column_name]):\n",
    "            prompt = build_question_prompt(transcript, question_num)\n",
    "            \n",
    "            response = query_model(client, model_name, prompt, max_tokens, temperature)\n",
    "            check_and_store_response(response, responses_df, video_id, question_num, \n",
    "                                     rating_scale=5, remove_prompt=False, print_response=print_response)\n",
    "            \n",
    "            time.sleep(delay)"
   ]
  },
  {
   "cell_type": "markdown",
   "metadata": {},
   "source": [
    "### Explore Results"
   ]
  },
  {
   "cell_type": "code",
   "execution_count": null,
   "metadata": {},
   "outputs": [],
   "source": [
    "display_from_index = 45\n",
    "responses_df.iloc[display_from_index:,3:18].head(1)"
   ]
  },
  {
   "cell_type": "code",
   "execution_count": null,
   "metadata": {},
   "outputs": [],
   "source": [
    "columns_with_none = (responses_df.isna() | responses_df.isnull()).sum()\n",
    "columns_with_none"
   ]
  },
  {
   "cell_type": "code",
   "execution_count": null,
   "metadata": {},
   "outputs": [],
   "source": [
    "rows_with_none = responses_df[responses_df.isnull().any(axis=1)]\n",
    "rows_with_none"
   ]
  },
  {
   "cell_type": "code",
   "execution_count": null,
   "metadata": {},
   "outputs": [],
   "source": [
    "indices_with_problems = responses_df[responses_df[\"Problem\"].apply(lambda x: len(x) > 0)].index.tolist()\n",
    "print(indices_with_problems)"
   ]
  },
  {
   "cell_type": "code",
   "execution_count": null,
   "metadata": {},
   "outputs": [],
   "source": [
    "from IPython.display import display, HTML\n",
    "\n",
    "if indices_with_problems:\n",
    "    index_with_problem = 70\n",
    "    responses_with_problem_list = list(responses_df.loc[index_with_problem, 'Problem'])\n",
    "    print(responses_with_problem_list)\n",
    "\n",
    "    response_with_problem = responses_with_problem_list[0]\n",
    "    text = responses_df.loc[index_with_problem, f\"Response_{response_with_problem}\"]\n",
    "    display(HTML(\"<div style='white-space: pre-wrap;'>{}</div>\".format(text)))"
   ]
  },
  {
   "cell_type": "code",
   "execution_count": null,
   "metadata": {},
   "outputs": [],
   "source": [
    "# display the full responses for a specific transcript\n",
    "index_to_display = 45\n",
    "for question_num in range(1, 16):\n",
    "    print(f\"Q{question_num}:\", responses_df.at[index_to_display,f\"Response_{question_num}\"])"
   ]
  },
  {
   "cell_type": "markdown",
   "metadata": {},
   "source": [
    "### Store Results in a CSV File"
   ]
  },
  {
   "cell_type": "code",
   "execution_count": null,
   "metadata": {},
   "outputs": [],
   "source": [
    "csv_output_file = os.path.join(responses_dir, f\"{results_file_name}-response.csv\")\n",
    "\n",
    "responses_df.to_csv(csv_output_file, index=False, encoding=\"utf-8\")"
   ]
  }
 ],
 "metadata": {
  "kernelspec": {
   "display_name": "Python 3",
   "language": "python",
   "name": "python3"
  },
  "language_info": {
   "codemirror_mode": {
    "name": "ipython",
    "version": 3
   },
   "file_extension": ".py",
   "mimetype": "text/x-python",
   "name": "python",
   "nbconvert_exporter": "python",
   "pygments_lexer": "ipython3",
   "version": "3.12.2"
  }
 },
 "nbformat": 4,
 "nbformat_minor": 2
}
