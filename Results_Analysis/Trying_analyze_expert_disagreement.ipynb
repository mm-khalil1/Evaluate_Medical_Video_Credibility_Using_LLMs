{
 "cells": [
  {
   "cell_type": "code",
   "execution_count": null,
   "metadata": {},
   "outputs": [],
   "source": [
    "def bland_altman_plot(data1, data2, ylabel, *args, **kwargs):\n",
    "    \"\"\"\n",
    "    Create a Bland-Altman plot.\n",
    "\n",
    "    Parameters:\n",
    "        data1 (array-like): First set of data (e.g., expert scores).\n",
    "        data2 (array-like): Second set of data (e.g., AI scores).\n",
    "        *args, **kwargs: Additional arguments and keyword arguments to pass to plt.scatter().\n",
    "\n",
    "    Returns:\n",
    "        None\n",
    "    \"\"\"\n",
    "    mean = (data1 + data2) / 2\n",
    "    diff = data1 - data2\n",
    "    \n",
    "    plt.figure(figsize=(8, 6))\n",
    "    plt.scatter(mean, diff, *args, **kwargs)\n",
    "    plt.axhline(diff.mean(), color='red', linestyle='--')\n",
    "    plt.xlabel('Mean of Scores')\n",
    "    plt.ylabel(ylabel)\n",
    "    plt.title('Bland-Altman Plot')\n",
    "    plt.grid(True)\n",
    "    plt.show()\n",
    "\n",
    "# Example usage:\n",
    "# Assuming data1 and data2 are arrays/lists of expert and AI scores respectively\n",
    "# Replace data1 and data2 with your actual data\n",
    "\n",
    "\n",
    "col1 = 'Experts_Avg'\n",
    "col2 = 'Model Total'\n",
    "\n",
    "bland_altman_plot(model_groupB_df[col1], model_groupB_df[col2], color='blue', alpha=0.5, \n",
    "                  ylabel='Difference (Expert - AI)')\n"
   ]
  },
  {
   "cell_type": "code",
   "execution_count": null,
   "metadata": {},
   "outputs": [],
   "source": [
    "\n",
    "col1 = 'Expert1'\n",
    "col2 = 'Expert2'\n",
    "bland_altman_plot(model_groupB_df[col1], model_groupB_df[col2], color='blue', alpha=0.5,\n",
    "                  ylabel='Difference (Expert1 - Expert2)')"
   ]
  },
  {
   "cell_type": "code",
   "execution_count": null,
   "metadata": {},
   "outputs": [],
   "source": [
    "import statsmodels.api as sm\n",
    "\n",
    "#create Q-Q plot with 45-degree line added to plot\n",
    "data = model_groupB_df['Experts_Avg']\n",
    "fig = sm.qqplot(data, line='45')\n",
    "plt.show()"
   ]
  },
  {
   "cell_type": "code",
   "execution_count": null,
   "metadata": {},
   "outputs": [
    {
     "name": "stdout",
     "output_type": "stream",
     "text": [
      "(276, 35)\n",
      "Topic\n",
      "Nocturnal Enuresis     57\n",
      "Cluster Headache       54\n",
      "Trigger Finger         44\n",
      "Spina Bifida           36\n",
      "Pudendal Nerve         35\n",
      "Delayed Ejaculation    25\n",
      "Flat Feet              25\n",
      "Name: count, dtype: int64\n"
     ]
    },
    {
     "data": {
      "text/html": [
       "<div>\n",
       "<style scoped>\n",
       "    .dataframe tbody tr th:only-of-type {\n",
       "        vertical-align: middle;\n",
       "    }\n",
       "\n",
       "    .dataframe tbody tr th {\n",
       "        vertical-align: top;\n",
       "    }\n",
       "\n",
       "    .dataframe thead th {\n",
       "        text-align: right;\n",
       "    }\n",
       "</style>\n",
       "<table border=\"1\" class=\"dataframe\">\n",
       "  <thead>\n",
       "    <tr style=\"text-align: right;\">\n",
       "      <th></th>\n",
       "      <th>Video ID</th>\n",
       "      <th>Topic</th>\n",
       "      <th>Expert1</th>\n",
       "      <th>Expert2</th>\n",
       "      <th>Experts_Avg</th>\n",
       "      <th>Expert1 Q1</th>\n",
       "      <th>Expert1 Q2</th>\n",
       "      <th>Expert1 Q3</th>\n",
       "      <th>Expert1 Q4</th>\n",
       "      <th>Expert1 Q5</th>\n",
       "      <th>...</th>\n",
       "      <th>Expert2 Q6</th>\n",
       "      <th>Expert2 Q7</th>\n",
       "      <th>Expert2 Q8</th>\n",
       "      <th>Expert2 Q9</th>\n",
       "      <th>Expert2 Q10</th>\n",
       "      <th>Expert2 Q11</th>\n",
       "      <th>Expert2 Q12</th>\n",
       "      <th>Expert2 Q13</th>\n",
       "      <th>Expert2 Q14</th>\n",
       "      <th>Expert2 Q15</th>\n",
       "    </tr>\n",
       "  </thead>\n",
       "  <tbody>\n",
       "    <tr>\n",
       "      <th>0</th>\n",
       "      <td>OWtlKJbg_Pc</td>\n",
       "      <td>Nocturnal Enuresis</td>\n",
       "      <td>2</td>\n",
       "      <td>2.0</td>\n",
       "      <td>2.0</td>\n",
       "      <td>NaN</td>\n",
       "      <td>NaN</td>\n",
       "      <td>NaN</td>\n",
       "      <td>NaN</td>\n",
       "      <td>NaN</td>\n",
       "      <td>...</td>\n",
       "      <td>NaN</td>\n",
       "      <td>NaN</td>\n",
       "      <td>NaN</td>\n",
       "      <td>NaN</td>\n",
       "      <td>NaN</td>\n",
       "      <td>NaN</td>\n",
       "      <td>NaN</td>\n",
       "      <td>NaN</td>\n",
       "      <td>NaN</td>\n",
       "      <td>NaN</td>\n",
       "    </tr>\n",
       "    <tr>\n",
       "      <th>1</th>\n",
       "      <td>95T3ABnnhOs</td>\n",
       "      <td>Nocturnal Enuresis</td>\n",
       "      <td>1</td>\n",
       "      <td>1.0</td>\n",
       "      <td>1.0</td>\n",
       "      <td>NaN</td>\n",
       "      <td>NaN</td>\n",
       "      <td>NaN</td>\n",
       "      <td>NaN</td>\n",
       "      <td>NaN</td>\n",
       "      <td>...</td>\n",
       "      <td>NaN</td>\n",
       "      <td>NaN</td>\n",
       "      <td>NaN</td>\n",
       "      <td>NaN</td>\n",
       "      <td>NaN</td>\n",
       "      <td>NaN</td>\n",
       "      <td>NaN</td>\n",
       "      <td>NaN</td>\n",
       "      <td>NaN</td>\n",
       "      <td>NaN</td>\n",
       "    </tr>\n",
       "  </tbody>\n",
       "</table>\n",
       "<p>2 rows × 35 columns</p>\n",
       "</div>"
      ],
      "text/plain": [
       "      Video ID               Topic  Expert1  Expert2  Experts_Avg  Expert1 Q1  \\\n",
       "0  OWtlKJbg_Pc  Nocturnal Enuresis        2      2.0          2.0         NaN   \n",
       "1  95T3ABnnhOs  Nocturnal Enuresis        1      1.0          1.0         NaN   \n",
       "\n",
       "   Expert1 Q2  Expert1 Q3  Expert1 Q4  Expert1 Q5  ...  Expert2 Q6  \\\n",
       "0         NaN         NaN         NaN         NaN  ...         NaN   \n",
       "1         NaN         NaN         NaN         NaN  ...         NaN   \n",
       "\n",
       "   Expert2 Q7  Expert2 Q8  Expert2 Q9  Expert2 Q10  Expert2 Q11  Expert2 Q12  \\\n",
       "0         NaN         NaN         NaN          NaN          NaN          NaN   \n",
       "1         NaN         NaN         NaN          NaN          NaN          NaN   \n",
       "\n",
       "   Expert2 Q13  Expert2 Q14  Expert2 Q15  \n",
       "0          NaN          NaN          NaN  \n",
       "1          NaN          NaN          NaN  \n",
       "\n",
       "[2 rows x 35 columns]"
      ]
     },
     "metadata": {},
     "output_type": "display_data"
    }
   ],
   "source": [
    "import os\n",
    "import sys\n",
    "\n",
    "sys.path.append(\".\")  # Add the parent directory of LLM_Evaluations to the Python path\n",
    "from Trying_statistics_plots_analysis_utils import *\n",
    "\n",
    "experts_file = \"../../../Videos_and_DISCERN_data/filtered_experts_scores.csv\"\n",
    "# experts_file = \"../../../Videos_and_DISCERN_data/diabetes_experts_scores.csv\"\n",
    "experts_df = pd.read_csv(experts_file)\n",
    "\n",
    "print(experts_df.shape)\n",
    "print(experts_df['Topic'].value_counts())\n",
    "experts_df.head(2)"
   ]
  },
  {
   "cell_type": "code",
   "execution_count": 22,
   "metadata": {},
   "outputs": [
    {
     "name": "stdout",
     "output_type": "stream",
     "text": [
      "3.0 12 BdySBDyziw8 Question: 1\n",
      "3.0 31 SGC3Ykuc5v0 Question: 8\n"
     ]
    }
   ],
   "source": [
    "for idx, row in experts_df.iterrows():\n",
    "    video_id = row['Video ID']\n",
    "    # if row['Topic'] == 'Trigger Finger':\n",
    "    for q_num in range(1, 16):\n",
    "        expert1_score = row[f'Expert1 Q{q_num}']\n",
    "        expert2_score = row[f'Expert2 Q{q_num}']\n",
    "        if pd.notna(expert1_score) and pd.notna(expert2_score):\n",
    "            diff = abs(expert1_score - expert2_score)\n",
    "            if diff > 2:\n",
    "                print(diff, idx, video_id, 'Question:', q_num)\n"
   ]
  },
  {
   "cell_type": "code",
   "execution_count": 30,
   "metadata": {},
   "outputs": [
    {
     "data": {
      "image/png": "[encoded data removed]",
      "text/plain": [
       "<Figure size 600x500 with 1 Axes>"
      ]
     },
     "metadata": {},
     "output_type": "display_data"
    },
    {
     "data": {
      "image/png": "[encoded data removed]",
      "text/plain": [
       "<Figure size 600x500 with 1 Axes>"
      ]
     },
     "metadata": {},
     "output_type": "display_data"
    }
   ],
   "source": [
    "questionwise_agreement(experts_df, EXPERT1_COLUMNS, EXPERT2_COLUMNS, 'Dr. Anan', 'Dr. Eman', 'ISA', \"Brennan-Prediger Kappa\")\n",
    "questionwise_agreement(experts_df, EXPERT1_COLUMNS, EXPERT2_COLUMNS, 'Dr. Anan', 'Dr. Eman', 'ISA', \"Observed Kappa\")"
   ]
  },
  {
   "cell_type": "code",
   "execution_count": null,
   "metadata": {},
   "outputs": [],
   "source": [
    "for idx, row in experts_df.iterrows():\n",
    "    video_id = row['Video ID']\n",
    "    for q_num in range(1, 16):\n",
    "        expert1_score = row[f'Expert1 Q{q_num}']\n",
    "        expert2_score = row[f'Expert2 Q{q_num}']\n",
    "        if pd.notna(expert1_score) and pd.notna(expert2_score):\n",
    "            diff = abs(expert1_score - expert2_score)\n",
    "            if diff > 1:\n",
    "                print(diff, idx, video_id, 'Question:', q_num)\n",
    "                \n",
    "print(\"Mean Difference:\", mean_diff)"
   ]
  },
  {
   "cell_type": "code",
   "execution_count": 12,
   "metadata": {},
   "outputs": [],
   "source": [
    "def text_to_array(text):\n",
    "    # Split the text by newlines and convert each part to an integer\n",
    "    array = [int(line) for line in text.strip().split('\\n')]\n",
    "    return array\n",
    "\n",
    "e1 = [5, 5, 5, 5, 5, 5, 5, 5, 5, 5, 5, 5, 5, 5, 5, 5, 4, 5, 5, 5, 5, 5, 5, 5, 5, 5, 5, 5, 5, 5, 5, 5]\n",
    "e2 = [5, 4, 5, 5, 5, 5, 4, 4, 5, 5, 5, 5, 5, 5, 5, 4, 3, 5, 5, 5, 5, 5, 5, 5, 5, 5, 5, 5, 5, 5, 5, 4]"
   ]
  },
  {
   "cell_type": "code",
   "execution_count": 16,
   "metadata": {},
   "outputs": [
    {
     "name": "stdout",
     "output_type": "stream",
     "text": [
      "Gwet's AC2: 0.37254901960784315\n",
      "[[ 0  0  0  0  0]\n",
      " [ 0  0  0  0  0]\n",
      " [ 0  0  0  0  0]\n",
      " [ 0  0  1  0  0]\n",
      " [ 0  0  0  5 26]]\n"
     ]
    }
   ],
   "source": [
    "import numpy as np\n",
    "\n",
    "def confusion_matrix(rater1, rater2, categories):\n",
    "    \"\"\"\n",
    "    Construct a confusion matrix from two arrays of ratings.\n",
    "    \n",
    "    Parameters:\n",
    "        rater1 (list or numpy.ndarray): Ratings from the first rater.\n",
    "        rater2 (list or numpy.ndarray): Ratings from the second rater.\n",
    "        categories (list): List of unique categories.\n",
    "        \n",
    "    Returns:\n",
    "        numpy.ndarray: Confusion matrix.\n",
    "    \"\"\"\n",
    "    n_categories = len(categories)\n",
    "    matrix = np.zeros((n_categories, n_categories), dtype=int)\n",
    "    \n",
    "    for a, b in zip(rater1, rater2):\n",
    "        i = categories.index(a)\n",
    "        j = categories.index(b)\n",
    "        matrix[i, j] += 1\n",
    "        \n",
    "    return matrix\n",
    "\n",
    "def gwet_ac2_from_ratings(rater1, rater2, categories, weights='linear'):\n",
    "    \"\"\"\n",
    "    Calculate Gwet's AC2 from two arrays of ratings.\n",
    "    \n",
    "    Parameters:\n",
    "        rater1 (list or numpy.ndarray): Ratings from the first rater.\n",
    "        rater2 (list or numpy.ndarray): Ratings from the second rater.\n",
    "        categories (list): List of unique categories.\n",
    "        weights (str or numpy.ndarray, optional): Either 'linear' for linear weights, 'quadratic' for quadratic weights, or provide a custom weighting matrix.\n",
    "        \n",
    "    Returns:\n",
    "        float: Gwet's AC2 statistic.\n",
    "    \"\"\"\n",
    "    matrix = confusion_matrix(rater1, rater2, categories)\n",
    "    return gwet_ac2(matrix, weights)\n",
    "\n",
    "def gwet_ac2(ratings, weights='linear'):\n",
    "    \"\"\"\n",
    "    Calculate Gwet's AC2 statistic.\n",
    "\n",
    "    Parameters:\n",
    "        ratings (numpy.ndarray): An NxN matrix representing the observed frequencies of each category.\n",
    "        weights (str or numpy.ndarray, optional): Either 'linear' for linear weights, 'quadratic' for quadratic weights, or provide a custom weighting matrix.\n",
    "\n",
    "    Returns:\n",
    "        float: Gwet's AC2 statistic.\n",
    "    \"\"\"\n",
    "    n = ratings.sum()\n",
    "\n",
    "    if weights == 'linear':\n",
    "        weights_matrix = np.ones((len(ratings), len(ratings)))\n",
    "        for i in range(len(ratings)):\n",
    "            for j in range(len(ratings)):\n",
    "                weights_matrix[i][j] = abs(i - j)\n",
    "    elif weights == 'quadratic':\n",
    "        weights_matrix = np.ones((len(ratings), len(ratings)))\n",
    "        for i in range(len(ratings)):\n",
    "            for j in range(len(ratings)):\n",
    "                weights_matrix[i][j] = (i - j) ** 2\n",
    "    else:\n",
    "        weights_matrix = weights\n",
    "\n",
    "    row_marginal = np.sum(ratings, axis=1)\n",
    "    col_marginal = np.sum(ratings, axis=0)\n",
    "\n",
    "    expected = np.outer(row_marginal, col_marginal) / n\n",
    "\n",
    "    observed_agreement = np.sum(weights_matrix * ratings) / n\n",
    "    expected_agreement = np.sum(weights_matrix * expected) / n\n",
    "\n",
    "    ac2 = 1 - (observed_agreement / expected_agreement)\n",
    "\n",
    "    return ac2\n",
    "\n",
    "# Example usage:\n",
    "categories = [1, 2, 3, 4, 5]\n",
    "\n",
    "ac2 = gwet_ac2_from_ratings(e1, e1, categories)\n",
    "print(\"Gwet's AC2:\", ac2)\n"
   ]
  },
  {
   "cell_type": "code",
   "execution_count": 25,
   "metadata": {},
   "outputs": [
    {
     "name": "stdout",
     "output_type": "stream",
     "text": [
      "Brennan and Prediger's Kappa: 0.765625\n"
     ]
    }
   ],
   "source": [
    "import numpy as np\n",
    "\n",
    "def brennan_prediger_kappa(rater1, rater2, categories):\n",
    "    \"\"\"\n",
    "    Calculate Brennan and Prediger's Kappa from two arrays of ratings.\n",
    "    \n",
    "    Parameters:\n",
    "        rater1 (list or numpy.ndarray): Ratings from the first rater.\n",
    "        rater2 (list or numpy.ndarray): Ratings from the second rater.\n",
    "        categories (list): List of unique categories.\n",
    "        \n",
    "    Returns:\n",
    "        float: Brennan and Prediger's Kappa.\n",
    "    \"\"\"\n",
    "    assert len(rater1) == len(rater2), \"The two rating arrays must have the same length\"\n",
    "    \n",
    "    n = len(rater1)\n",
    "    k = len(categories)\n",
    "    \n",
    "    # Count the observed agreement\n",
    "    observed_agreement = sum(a == b for a, b in zip(rater1, rater2))\n",
    "    \n",
    "    # Calculate expected agreement under uniform distribution\n",
    "    expected_agreement = n / k\n",
    "    \n",
    "    # Calculate Brennan and Prediger's Kappa\n",
    "    kappa = (observed_agreement - expected_agreement) / (n - expected_agreement)\n",
    "    \n",
    "    return kappa\n",
    "\n",
    "# Example usage:\n",
    "rater1 = [1, 2, 3, 4, 1, 2, 3, 4]\n",
    "rater2 = [1, 2, 3, 4, 2, 2, 3, 4]\n",
    "categories = [1, 2, 3, 4]\n",
    "\n",
    "kappa = brennan_prediger_kappa(e1, e2, range(1,6))\n",
    "print(\"Brennan and Prediger's Kappa:\", kappa)\n"
   ]
  },
  {
   "cell_type": "code",
   "execution_count": 56,
   "metadata": {},
   "outputs": [
    {
     "name": "stdout",
     "output_type": "stream",
     "text": [
      "Bennett, Alpert, and Goldstein's S: 0.765625\n"
     ]
    }
   ],
   "source": [
    "import numpy as np\n",
    "\n",
    "def bag_s(ratings1, ratings2, k):\n",
    "    n = len(ratings1)\n",
    "    \n",
    "    # Count agreement on each category\n",
    "    agreements = sum(1 for r1, r2 in zip(ratings1, ratings2) if r1 == r2)\n",
    "    \n",
    "    # Calculate expected agreement by chance\n",
    "    p = 1 / k  # Probability of agreement by chance\n",
    "    expected_agreements = n * p\n",
    "    \n",
    "    # Calculate BAG's S\n",
    "    bag_s = (agreements - expected_agreements) / (n - expected_agreements)\n",
    "    \n",
    "    return bag_s\n",
    "\n",
    "# Calculate BAG's S\n",
    "bag_s_value = bag_s(e1, e2, 5)\n",
    "\n",
    "print(\"Bennett, Alpert, and Goldstein's S:\", bag_s_value)\n"
   ]
  },
  {
   "cell_type": "code",
   "execution_count": 9,
   "metadata": {},
   "outputs": [
    {
     "name": "stdout",
     "output_type": "stream",
     "text": [
      "0.10825317547305482\n"
     ]
    }
   ],
   "source": [
    "from sklearn.metrics import root_mean_squared_error\n",
    "\n",
    "rmse = root_mean_squared_error(e1, e2)\n",
    "print(rmse/4)"
   ]
  },
  {
   "cell_type": "code",
   "execution_count": 19,
   "metadata": {},
   "outputs": [
    {
     "name": "stdout",
     "output_type": "stream",
     "text": [
      "Spearman's Rank Correlation Coefficient (ρ): 0.44444444444444436\n"
     ]
    }
   ],
   "source": [
    "from scipy.stats import spearmanr\n",
    "\n",
    "# Calculate Spearman's rank correlation coefficient\n",
    "spearman_rho, _ = spearmanr(e1, e2, )\n",
    "\n",
    "print(\"Spearman's Rank Correlation Coefficient (ρ):\", spearman_rho)\n",
    "\n"
   ]
  },
  {
   "cell_type": "code",
   "execution_count": 6,
   "metadata": {},
   "outputs": [
    {
     "data": {
      "text/plain": [
       "{'Wilcoxon signed-rank test p-value': 0.014305878435429648,\n",
       " 'Paired t-test p-value': 0.011833505370244466,\n",
       " 'ICC3': 0.4222222222222222,\n",
       " 'CCC': 0.36223862238622384,\n",
       " 'Weighted Kappa': 0.37254901960784315}"
      ]
     },
     "execution_count": 6,
     "metadata": {},
     "output_type": "execute_result"
    }
   ],
   "source": [
    "stat_dict = calculate_statistics(experts_df, 'Expert1 Q6', 'Expert2 Q6')\n",
    "stat_dict"
   ]
  },
  {
   "cell_type": "code",
   "execution_count": 53,
   "metadata": {},
   "outputs": [
    {
     "name": "stdout",
     "output_type": "stream",
     "text": [
      "Weighted Kappa Quadratic: 0.37\n",
      "Confusion Matrix:\n",
      " [[ 0  0  0  0  0]\n",
      " [ 0  0  0  0  0]\n",
      " [ 0  0  0  0  0]\n",
      " [ 0  0  1  0  0]\n",
      " [ 0  0  0  5 26]]\n"
     ]
    }
   ],
   "source": [
    "import numpy as np\n",
    "from sklearn.metrics import cohen_kappa_score, confusion_matrix\n",
    "\n",
    "# Define the two sets of ratings\n",
    "e1 = [5, 5, 5, 5, 5, 5, 5, 5, 5, 5, 5, 5, 5, 5, 5, 5, 4, 5, 5, 5, 5, 5, 5, 5, 5, 5, 5, 5, 5, 5, 5, 5]\n",
    "e2 = [5, 4, 5, 5, 5, 5, 4, 4, 5, 5, 5, 5, 5, 5, 5, 4, 3, 5, 5, 5, 5, 5, 5, 5, 5, 5, 5, 5, 5, 5, 5, 4]\n",
    "\n",
    "# cohen_kappa = cohen_kappa_score(e1, e2, weights=None, labels=range(1,6))\n",
    "# weighted_kappa_linear = cohen_kappa_score(e1, e2, weights='linear', labels=range(1,6))\n",
    "weighted_kappa_quadratic = cohen_kappa_score(e1, e2, weights='quadratic', labels=range(1,6))\n",
    "\n",
    "# print(\"Cohens Kappa:\", round(cohen_kappa, 2))\n",
    "# print(\"Weighted Kappa Linear:\", round(weighted_kappa_linear, 2))\n",
    "print(\"Weighted Kappa Quadratic:\", round(weighted_kappa_quadratic, 2))\n",
    "\n",
    "conf_matrix = confusion_matrix(e1, e2, labels=range(1,6))\n",
    "print(\"Confusion Matrix:\\n\", conf_matrix)"
   ]
  },
  {
   "cell_type": "code",
   "execution_count": 15,
   "metadata": {},
   "outputs": [
    {
     "name": "stdout",
     "output_type": "stream",
     "text": [
      "Mean Difference: 0.1875\n",
      "Mean Difference as a Percentage: 4.6875\n"
     ]
    },
    {
     "data": {
      "image/png": "[encoded data removed]",
      "text/plain": [
       "<Figure size 640x480 with 1 Axes>"
      ]
     },
     "metadata": {},
     "output_type": "display_data"
    }
   ],
   "source": [
    "import numpy as np\n",
    "import matplotlib.pyplot as plt\n",
    "\n",
    "# Define the two sets of ratings\n",
    "e1 = np.array([5, 5, 5, 5, 5, 5, 5, 5, 5, 5, 5, 5, 5, 5, 5, 5, 4, 5, 5, 5, 5, 5, 5, 5, 5, 5, 5, 5, 5, 5, 5, 5])\n",
    "e2 = np.array([5, 4, 5, 5, 5, 5, 4, 4, 5, 5, 5, 5, 5, 5, 5, 4, 3, 5, 5, 5, 5, 5, 5, 5, 5, 5, 5, 5, 5, 5, 5, 4])\n",
    "\n",
    "# Calculate mean difference\n",
    "mean_diff = np.mean(e1 - e2)\n",
    "print(\"Mean Difference:\", mean_diff)\n",
    "\n",
    "max_diff = np.max(np.abs(e1 - e2))\n",
    "\n",
    "# Convert mean difference to percentage of maximum possible difference\n",
    "mean_diff_percent = (mean_diff / 4) * 100\n",
    "\n",
    "print(\"Mean Difference as a Percentage:\", mean_diff_percent)\n",
    "# Bland-Altman Plot\n",
    "mean_ratings = (e1 + e2) / 2\n",
    "diff = e1 - e2\n",
    "plt.scatter(mean_ratings, diff)\n",
    "plt.axhline(mean_diff, color='r', linestyle='--')\n",
    "plt.xlabel('Mean of Ratings')\n",
    "plt.ylabel('Difference')\n",
    "plt.title('Bland-Altman Plot')\n",
    "plt.show()\n"
   ]
  },
  {
   "cell_type": "code",
   "execution_count": 21,
   "metadata": {},
   "outputs": [
    {
     "ename": "ImportError",
     "evalue": "cannot import name 'ac1' from 'irr' (c:\\Users\\ku500989\\AppData\\Local\\Programs\\Python\\Python312\\Lib\\site-packages\\irr\\__init__.py)",
     "output_type": "error",
     "traceback": [
      "\u001b[1;31m---------------------------------------------------------------------------\u001b[0m",
      "\u001b[1;31mImportError\u001b[0m                               Traceback (most recent call last)",
      "Cell \u001b[1;32mIn[21], line 1\u001b[0m\n\u001b[1;32m----> 1\u001b[0m \u001b[38;5;28;01mfrom\u001b[39;00m \u001b[38;5;21;01mirr\u001b[39;00m \u001b[38;5;28;01mimport\u001b[39;00m ac1\n\u001b[0;32m      3\u001b[0m \u001b[38;5;66;03m# Example ratings from two raters\u001b[39;00m\n\u001b[0;32m      4\u001b[0m rater1 \u001b[38;5;241m=\u001b[39m [\u001b[38;5;241m1\u001b[39m, \u001b[38;5;241m1\u001b[39m, \u001b[38;5;241m2\u001b[39m, \u001b[38;5;241m2\u001b[39m, \u001b[38;5;241m3\u001b[39m]\n",
      "\u001b[1;31mImportError\u001b[0m: cannot import name 'ac1' from 'irr' (c:\\Users\\ku500989\\AppData\\Local\\Programs\\Python\\Python312\\Lib\\site-packages\\irr\\__init__.py)"
     ]
    }
   ],
   "source": [
    "from irr import ac1\n",
    "\n",
    "# Example ratings from two raters\n",
    "rater1 = [1, 1, 2, 2, 3]\n",
    "rater2 = [1, 2, 2, 2, 3]\n",
    "\n",
    "# Combine ratings into a list of lists\n",
    "ratings = [e1, e1]\n",
    "\n",
    "# Compute Gwet’s AC1\n",
    "ac1_score = ac1(ratings)\n",
    "\n",
    "print(\"Gwet’s AC1:\", ac1_score)\n"
   ]
  },
  {
   "cell_type": "code",
   "execution_count": 28,
   "metadata": {},
   "outputs": [
    {
     "ename": "ValueError",
     "evalue": "operands could not be broadcast together with shapes (5,5) (6,6) ",
     "output_type": "error",
     "traceback": [
      "\u001b[1;31m---------------------------------------------------------------------------\u001b[0m",
      "\u001b[1;31mValueError\u001b[0m                                Traceback (most recent call last)",
      "Cell \u001b[1;32mIn[28], line 67\u001b[0m\n\u001b[0;32m     64\u001b[0m rater2 \u001b[38;5;241m=\u001b[39m [\u001b[38;5;241m5\u001b[39m, \u001b[38;5;241m4\u001b[39m, \u001b[38;5;241m5\u001b[39m, \u001b[38;5;241m5\u001b[39m, \u001b[38;5;241m5\u001b[39m, \u001b[38;5;241m5\u001b[39m, \u001b[38;5;241m4\u001b[39m, \u001b[38;5;241m4\u001b[39m, \u001b[38;5;241m5\u001b[39m, \u001b[38;5;241m5\u001b[39m, \u001b[38;5;241m5\u001b[39m, \u001b[38;5;241m5\u001b[39m, \u001b[38;5;241m5\u001b[39m, \u001b[38;5;241m5\u001b[39m, \u001b[38;5;241m5\u001b[39m, \u001b[38;5;241m4\u001b[39m, \u001b[38;5;241m3\u001b[39m, \u001b[38;5;241m5\u001b[39m, \u001b[38;5;241m5\u001b[39m, \u001b[38;5;241m5\u001b[39m, \u001b[38;5;241m5\u001b[39m, \u001b[38;5;241m5\u001b[39m, \u001b[38;5;241m5\u001b[39m, \u001b[38;5;241m5\u001b[39m, \u001b[38;5;241m5\u001b[39m, \u001b[38;5;241m5\u001b[39m, \u001b[38;5;241m5\u001b[39m, \u001b[38;5;241m5\u001b[39m, \u001b[38;5;241m5\u001b[39m, \u001b[38;5;241m5\u001b[39m, \u001b[38;5;241m5\u001b[39m, \u001b[38;5;241m4\u001b[39m]\n\u001b[0;32m     65\u001b[0m categories \u001b[38;5;241m=\u001b[39m [\u001b[38;5;241m1\u001b[39m, \u001b[38;5;241m2\u001b[39m, \u001b[38;5;241m3\u001b[39m, \u001b[38;5;241m4\u001b[39m, \u001b[38;5;241m5\u001b[39m]\n\u001b[1;32m---> 67\u001b[0m ac2 \u001b[38;5;241m=\u001b[39m \u001b[43mgwet_ac2_with_missing\u001b[49m\u001b[43m(\u001b[49m\u001b[43mrater1\u001b[49m\u001b[43m,\u001b[49m\u001b[43m \u001b[49m\u001b[43mrater2\u001b[49m\u001b[43m,\u001b[49m\u001b[43m \u001b[49m\u001b[43mcategories\u001b[49m\u001b[43m,\u001b[49m\u001b[43m \u001b[49m\u001b[43mweight\u001b[49m\u001b[38;5;241;43m=\u001b[39;49m\u001b[38;5;124;43m\"\u001b[39;49m\u001b[38;5;124;43mquadratic\u001b[39;49m\u001b[38;5;124;43m\"\u001b[39;49m\u001b[43m)\u001b[49m\n\u001b[0;32m     68\u001b[0m \u001b[38;5;28mprint\u001b[39m(\u001b[38;5;124mf\u001b[39m\u001b[38;5;124m\"\u001b[39m\u001b[38;5;124mGwet\u001b[39m\u001b[38;5;124m'\u001b[39m\u001b[38;5;124ms AC2 (linear weights): \u001b[39m\u001b[38;5;132;01m{\u001b[39;00mac2\u001b[38;5;132;01m}\u001b[39;00m\u001b[38;5;124m\"\u001b[39m)\n",
      "Cell \u001b[1;32mIn[28], line 53\u001b[0m, in \u001b[0;36mgwet_ac2_with_missing\u001b[1;34m(rater1, rater2, categories, weight)\u001b[0m\n\u001b[0;32m     50\u001b[0m weights \u001b[38;5;241m=\u001b[39m weights\u001b[38;5;241m.\u001b[39mreshape(weights\u001b[38;5;241m.\u001b[39mshape[\u001b[38;5;241m0\u001b[39m], \u001b[38;5;241m1\u001b[39m, weights\u001b[38;5;241m.\u001b[39mshape[\u001b[38;5;241m1\u001b[39m])  \u001b[38;5;66;03m# Reshape to (5, 1, 5)\u001b[39;00m\n\u001b[0;32m     52\u001b[0m \u001b[38;5;66;03m# Calculate numerator and denominator\u001b[39;00m\n\u001b[1;32m---> 53\u001b[0m numerator \u001b[38;5;241m=\u001b[39m np\u001b[38;5;241m.\u001b[39msum(weights \u001b[38;5;241m*\u001b[39m (\u001b[43magreement_matrix\u001b[49m\u001b[43m \u001b[49m\u001b[38;5;241;43m-\u001b[39;49m\u001b[43m \u001b[49m\u001b[43mchance_agreement\u001b[49m))\n\u001b[0;32m     54\u001b[0m denominator \u001b[38;5;241m=\u001b[39m np\u001b[38;5;241m.\u001b[39msum(weights \u001b[38;5;241m*\u001b[39m (marginal_totals[:, np\u001b[38;5;241m.\u001b[39mnewaxis] \u001b[38;5;241m-\u001b[39m chance_agreement)) \u001b[38;5;241m-\u001b[39m np\u001b[38;5;241m.\u001b[39msum(chance_agreement)\n\u001b[0;32m     56\u001b[0m \u001b[38;5;66;03m# Gwet's AC2 coefficient\u001b[39;00m\n",
      "\u001b[1;31mValueError\u001b[0m: operands could not be broadcast together with shapes (5,5) (6,6) "
     ]
    }
   ],
   "source": [
    "import numpy as np\n",
    "\n",
    "def gwet_ac2_with_missing(rater1, rater2, categories, weight=\"linear\"):\n",
    "  \"\"\"\n",
    "  Calculates Gwet's AC2 coefficient for agreement between two raters, handling missing data.\n",
    "\n",
    "  Args:\n",
    "      rater1 (list): List of ratings from rater 1.\n",
    "      rater2 (list): List of ratings from rater 2.\n",
    "      categories (list): List of possible categories.\n",
    "      weight (str, optional): Weighting scheme (\"linear\" or \"quadratic\"). Defaults to \"linear\".\n",
    "\n",
    "  Returns:\n",
    "      float: Gwet's AC2 coefficient.\n",
    "  \"\"\"\n",
    "\n",
    "  n = len(rater1)  # Number of ratings\n",
    "\n",
    "  # Check if ratings have the same length\n",
    "  if len(rater1) != len(rater2):\n",
    "    raise ValueError(\"Ratings lists must have the same length\")\n",
    "\n",
    "  # Count agreement matrix with missing category\n",
    "  num_categories = len(categories)\n",
    "  agreement_matrix = np.zeros((num_categories, num_categories))\n",
    "  for i in range(n):\n",
    "    if rater1[i] is not None and rater2[i] is not None:\n",
    "      agreement_matrix[rater1[i] - 1, rater2[i] - 1] += 1\n",
    "    else:\n",
    "      # Increment count for missing category (diagonal element)\n",
    "      agreement_matrix[num_categories - 1, num_categories - 1] += 1\n",
    "\n",
    "  # Calculate marginal totals including missing category\n",
    "  marginal_totals = np.sum(agreement_matrix, axis=0) + np.sum(agreement_matrix, axis=1) - np.diag(agreement_matrix)\n",
    "  marginal_totals = np.append(marginal_totals, np.sum(agreement_matrix[:, -1]))  # Add missing category total\n",
    "\n",
    "  # Calculate agreement probability under chance\n",
    "  chance_agreement = np.outer(marginal_totals / (n + 1), marginal_totals / (n + 1))\n",
    "\n",
    "  # Calculate weights based on weighting scheme\n",
    "  if weight == \"linear\":\n",
    "    weights = np.ones((num_categories, num_categories))\n",
    "  elif weight == \"quadratic\":\n",
    "    weights = np.abs(np.subtract.outer(np.arange(num_categories), np.arange(num_categories)))\n",
    "  else:\n",
    "    raise ValueError(\"Invalid weight type. Choose 'linear' or 'quadratic'.\")\n",
    "\n",
    "  # Reshape weights for broadcasting\n",
    "  weights = weights[:-1, :-1]  # Remove the last row and column for missing category\n",
    "  weights = weights.reshape(weights.shape[0], 1, weights.shape[1])  # Reshape to (5, 1, 5)\n",
    "\n",
    "  # Calculate numerator and denominator\n",
    "  numerator = np.sum(weights * (agreement_matrix - chance_agreement))\n",
    "  denominator = np.sum(weights * (marginal_totals[:, np.newaxis] - chance_agreement)) - np.sum(chance_agreement)\n",
    "\n",
    "  # Gwet's AC2 coefficient\n",
    "  ac2 = (numerator / denominator) if denominator != 0 else 0\n",
    "\n",
    "  return ac2\n",
    "\n",
    "# Example usage\n",
    "rater1 = [5, 5, 5, 5, 5, 5, 5, 5, 5, 5, 5, 5, 5, 5, 5, 5, 4, 5, 5, 5, 5, 5, 5, 5, 5, 5, 5, 5, 5, 5, 5, 5]\n",
    "rater2 = [5, 4, 5, 5, 5, 5, 4, 4, 5, 5, 5, 5, 5, 5, 5, 4, 3, 5, 5, 5, 5, 5, 5, 5, 5, 5, 5, 5, 5, 5, 5, 4]\n",
    "categories = [1, 2, 3, 4, 5]\n",
    "\n",
    "ac2 = gwet_ac2_with_missing(rater1, rater2, categories, weight=\"quadratic\")\n",
    "print(f\"Gwet's AC2 (linear weights): {ac2}\")"
   ]
  }
 ],
 "metadata": {
  "kernelspec": {
   "display_name": "Python 3",
   "language": "python",
   "name": "python3"
  },
  "language_info": {
   "codemirror_mode": {
    "name": "ipython",
    "version": 3
   },
   "file_extension": ".py",
   "mimetype": "text/x-python",
   "name": "python",
   "nbconvert_exporter": "python",
   "pygments_lexer": "ipython3",
   "version": "3.12.2"
  }
 },
 "nbformat": 4,
 "nbformat_minor": 2
}
