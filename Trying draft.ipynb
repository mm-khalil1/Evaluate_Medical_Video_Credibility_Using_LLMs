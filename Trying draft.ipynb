{
 "cells": [
  {
   "cell_type": "code",
   "execution_count": null,
   "metadata": {},
   "outputs": [],
   "source": [
    "\"\"\"\n",
    "from langchain_core.prompts import PromptTemplate\n",
    "from langchain_community.llms import HuggingFacePipeline\n",
    "from langchain.chains import LLMChain\n",
    "\n",
    "\n",
    "1. Are the aims clear and achieved?\n",
    "4. Are reliable sources of information used? (ie, publication cited, speaker is an orthodontist)\n",
    "6. Is the information presented balanced and unbiased?\n",
    "7. Are additional sources of information listed for patient reference?\n",
    "8. Are areas of uncertainty mentioned?\n",
    "\n",
    "1. Is the video clear, concise, and understandable?\n",
    "2. Are valid sources cited?\n",
    "3. Is the information provided balanced and unbiased?\n",
    "4. Are additional sources of information listed for patient reference?\n",
    "5. Does the video address areas of controversy/uncertainty?\n",
    "\n",
    "model_kwargs = {\n",
    "    'temperature': 0.1,\n",
    "    'max_length': 4096,\n",
    "}\n",
    "\n",
    "tokenizer = AutoTokenizer.from_pretrained(model_id)\n",
    "\n",
    "pipe = pipeline(model=model_id,\n",
    "                task=\"text-generation\",\n",
    "                tokenizer=tokenizer,\n",
    "                torch_dtype=\"auto\",      # torch.bfloat16,\n",
    "                device_map=\"auto\",\n",
    "                model_kwargs=model_kwargs,\n",
    "                # quantization_config=bnb_config,\n",
    ")\n",
    "                    \n",
    "hf_pipeline = HuggingFacePipeline(pipeline=pipe)\n",
    "\n",
    "prompt_with_context = PromptTemplate(\n",
    "    input_variables=[\"instruction\", \"context\"],\n",
    "    template=\"{instruction}\\nTranscript:\\n{context}\\nTranscript score:\"\n",
    "    )\n",
    "\n",
    "llm_context_chain = LLMChain(llm=hf_pipeline, prompt=prompt_with_context)\n",
    "llm_output = llm_context_chain.predict(instruction=instruction, context=context).lstrip()\n",
    "\"\"\""
   ]
  },
  {
   "cell_type": "code",
   "execution_count": 127,
   "metadata": {},
   "outputs": [
    {
     "name": "stdout",
     "output_type": "stream",
     "text": [
      "Repeated phrases: ['I felt like I', 'felt like I was', 'like I was on', 'I was on my', 'was on my own']\n"
     ]
    }
   ],
   "source": [
    "from collections import Counter\n",
    "import re\n",
    "\n",
    "def find_repeated_phrases(text, min_length=4, min_occurrences=2):\n",
    "    # Split text into sentences\n",
    "    sentences = re.split(r'(?<!\\w\\.\\w.)(?<![A-Z][a-z]\\.)(?<=\\.|\\?)\\s', text)\n",
    "    \n",
    "    # Initialize a counter to store occurrences of phrases\n",
    "    phrase_counter = Counter()\n",
    "    \n",
    "    # Iterate through each sentence\n",
    "    for sentence in sentences:\n",
    "        # Tokenize the sentence into words\n",
    "        words = sentence.split()\n",
    "        \n",
    "        # Generate all possible phrases longer than min_length words\n",
    "        for i in range(len(words) - min_length + 1):\n",
    "            phrase = ' '.join(words[i:i+min_length])\n",
    "            # Update the counter for this phrase\n",
    "            phrase_counter[phrase] += 1\n",
    "    \n",
    "    # Filter phrases that occur more than min_occurrences times\n",
    "    repeated_phrases = [phrase for phrase, count in phrase_counter.items() if count > min_occurrences]\n",
    "    \n",
    "    return repeated_phrases\n",
    "\n",
    "# Example usage\n",
    "text = \"Evening guys and welcome back to my channel. And you're probably all wondering, what is Nocturnal Enuresis? Well to put it in basic terms for you to understand, it is called bed wetting. Which obviously involves wetting the bed during the night. Which is something that I have dealt with all my life. So out of 2-3% of people over the age of 18 plus, they suffer with Nocturnal Enuresis. Now there's two types of Nocturnal Enuresis. There is a primary Nocturnal Enuresis and there is also a secondary Nocturnal Enuresis. The short name for Nocturnal Enuresis, instead of saying the long word, is NE. Or for primary Nocturnal Enuresis it's PNE. For secondary SND and so on. Out of 5-10% people, bed wetting is caused by the development of the bladder. It's not necessarily anything to do with medical. Sometimes it can be medical related. Other times it's more found that it's actually family history orientated. So it runs through the bloodline, for example grandparents and grandparents, cousins and so on. Well I'm in the category of the primary, yes, I'm the primary Nocturnal Enuresis. Which means I have never had a prolonged period of having a dry night. I'm wetting the bed every single night, without fail. But if I was a secondary Nocturnal Enuresis, which means I've had a long period of time where I've gone without wetting the bed and then unfortunately I've started again. But in my case I've always wet the bed, I've never had a dry night. So unfortunately it is something that I have dealt with all my life and there has been a lot of help. Over the years of having bed wetting I've been asked what treatments have I used, what therapies have I been recommended and so on and so forth. Well from as far as I can remember when I was younger my doctor told me that I could be prescribed this certain tablet. Now forgive me I don't know what the name of this tablet was, I've forgotten because it was many years ago. And they recommended to my mum that she sits at the end of my bed and watches me just drifting off into her sleep. Well with that she would then have to prescribe me the medication. I'm not 100% keen on that because I'm half asleep, my mum's got to try and wake me up, give me a tablet and then I go back to sleep. So the process of that was pretty awkward, frustrating as such because you just wouldn't want to go to bed. But having to be given it as soon as you go to sleep, that was a bit hard to deal with. My other treatment that I had when I was around about 7, yeah around about 7 I was given the opportunity of trying out the alarm. Well my opinion on the alarm was horrible to be truthfully honest, I don't know what else to say apart from the fact that it was really annoying. It was a little, what can I say, it was like a little pad which would then be attached to a long wire which would then be attached to a little box. That little box would then get clipped to my pyjamas along with the string that would go through my pyjamas and into a pair of underwear with this thing in between. So as soon as a bit of urine of course touches that alarm, it sends the alarm and it starts going off. Which then obviously wakes me up and then I can go to the toilet and finish what my body had started in my sleep. Well after a while that didn't get any useful because I got used to the sound of the alarm. So when I wet I didn't hear it so then my mum would then get woken up by the alarm and then she'd have to come in and tell me. Well the next morning obviously I've woken up dry, not realising that my mum has actually come in, helped me go to the toilet and then I've gone back to bed. So within that time frame I've then woken up and gone, yay I'm dry, I'm dry. When it's like no darling you actually, you know you nearly had the accident but so on and so forth. So that was quite awkward. I have also tried protection as in protective sheets, plastic sheets, also protective dry nights as what they call them. Well they get called different nappies, diapers, dry nights, anything really. I have also tried them which I also tried when I was around 17 to 18. But obviously at that age you're wanting to experience more, go out more so how could I possibly do that with me wearing a nappy? So that was kind of downgrading for me but I got there in the end. I actually had a partner who encouraged me to protect and that was really reassuring. And now I'm actually on a medication and if I don't take this medication I will have an accident so it is literally I've got to take it every night because if I don't I wake up wet. The other day I actually went to sleep, I had a little nap around about 5 o'clock. Well because I wasn't actually going to bed I didn't take my tablet which obviously then meant when I woke up after having an hour, hour and a half nap obviously I'd had the accident and had to change. So it doesn't matter when I go to sleep, I could go to sleep 4 o'clock in the afternoon, I could have a nap at 12 and it would happen then so it doesn't matter if it's at night although it's called Nocturnal Enuresis it happens regardless even if I'm asleep throughout the day I will then obviously have the accident. Having Nocturnal Enuresis has been a struggle, it has been isolating at some times because I didn't go on school trips as you heard in my last video I didn't participate in anything that I should have as an individual like everyone else. I felt like because I'm the bed wetter I'm in the wrong and I'm not normal but the thing is I'm just like everyone else and it shouldn't change me and I think the reason why I'm doing this video is because I don't want others to feel like they have to hide themselves because I know what that was like and I've missed out on so much like I didn't go to trips to Wales or go on a 6 week trip to a different country to help them with the school I didn't get to do that because I didn't have the right mindset then to think well hang on a minute no I can do this and guess what you can, you can do this I know you can because I can, I didn't think I could do it but I mean I've done it I've flicked that lid off the bottle and I've done it and I wouldn't turn back because no matter how much hate I may get from this it's not going to bring me down and it shouldn't bring nobody down either I mean I'm just glad that I'm doing this and encouraging people to feel like they're not on their own because for years I felt like I was on my own and I shouldn't have and unfortunately I felt like I was on my own from people that didn't understand I felt like I was on my own from professionals that did understand but didn't want to put me in a category because of my age so unfortunately because of treatments and things I got the help that I needed but I didn't get the personal help to deal with it like I got told oh yeah you've got an undeveloped bladder you've got Nocturnal Enuresis blah blah that's it you know there was no really I heard that you could have surgeries and things like that but I've never been offered that because they don't see it as a medical condition they see it as they they go by what you drink how many cups of tea you've had throughout the day how many fizzy drinks you've had what certain food you eat when you eat them do you eat them past a certain time so they do like to they don't put their eggs all in one basket which is absolutely fantastic that that's grand but\"\n",
    "repeated_phrases = find_repeated_phrases(text)\n",
    "print(\"Repeated phrases:\", repeated_phrases)\n"
   ]
  },
  {
   "cell_type": "code",
   "execution_count": null,
   "metadata": {},
   "outputs": [],
   "source": [
    "# Import the Transformers library\n",
    "import transformers\n",
    "dir(transformers)"
   ]
  },
  {
   "cell_type": "code",
   "execution_count": null,
   "metadata": {},
   "outputs": [],
   "source": [
    "from transformers import pipeline, AutoModelForQuestionAnswering, AutoTokenizer\n",
    "\n",
    "model_id = \"declare-lab/flan-alpaca-large\"\n",
    "tokenizer = AutoTokenizer.from_pretrained(model_id, legacy=False)\n",
    "model = AutoModelForQuestionAnswering.from_pretrained(model_id)\n",
    "\n",
    "question_answerer = pipeline(\"question-answering\", model=model, tokenizer=tokenizer, device=-1, max_length=1024)\n",
    "preds = question_answerer(\n",
    "    question=\"I will give you a medical video transcript, and I want you to give a score from 1 (low) to 5 (high) regarding the text: Is the video balanced and unbiased?\",\n",
    "    context=\"As a representative of the pharmaceutical industry, I believe that our new drug is the most effective solution for treating the common cold. Our extensive research has shown overwhelmingly positive results, and numerous studies have demonstrated the superior efficacy of our product compared to other treatments. Patients who have used our drug report rapid relief from symptoms and a faster recovery time. Therefore, I strongly recommend our drug to healthcare professionals and patients alike.\",\n",
    ")\n",
    "print(\n",
    "    f\"score: {round(preds['score'], 4)}, start: {preds['start']}, end: {preds['end']}, \\nanswer: {preds['answer']}\"\n",
    ")"
   ]
  },
  {
   "cell_type": "code",
   "execution_count": 7,
   "metadata": {},
   "outputs": [
    {
     "data": {
      "application/vnd.jupyter.widget-view+json": {
       "model_id": "ab72a3685edc49fe829c60fa5cc2d426",
       "version_major": 2,
       "version_minor": 0
      },
      "text/plain": [
       "VBox(children=(HTML(value='<center> <img\\nsrc=https://huggingface.co/front/assets/huggingface_logo-noborder.sv…"
      ]
     },
     "metadata": {},
     "output_type": "display_data"
    }
   ],
   "source": [
    "from huggingface_hub import login\n",
    "login()"
   ]
  },
  {
   "cell_type": "code",
   "execution_count": null,
   "metadata": {},
   "outputs": [],
   "source": [
    "import torch\n",
    "from transformers import AutoTokenizer, AutoModelForCausalLM\n",
    "\n",
    "min_score = 1\n",
    "max_score = 5\n",
    "\n",
    "model_name = \"google/gemma-2b\"\n",
    "tokenizer = AutoTokenizer.from_pretrained(model_name)\n",
    "model = AutoModelForCausalLM.from_pretrained(model_name)\n",
    "\n",
    "# Example input\n",
    "transcript = \"Medical video transcript goes here.\"\n",
    "question = \"Is the text balanced and unbiased? Give an integer score from 1 to 5\"\n",
    "\n",
    "# Formulate input\n",
    "input_text = f\"{transcript} {tokenizer.sep_token} {question}\"\n",
    "input_ids = tokenizer.encode(input_text, return_tensors=\"pt\")\n",
    "\n",
    "# Generate scores\n",
    "with torch.no_grad():\n",
    "    output = model(input_ids)\n",
    "    score = output.logthe videos[0][-1].the videoem()  # Assuming last token corresponds to the score\n",
    "\n",
    "# Normalize score (if needed)\n",
    "normalized_score = (score - min_score) / (max_score - min_score) * 4 + 1\n",
    "\n",
    "print(f\"Generated score: {normalized_score:.2f}\")\n"
   ]
  },
  {
   "cell_type": "code",
   "execution_count": 8,
   "metadata": {},
   "outputs": [
    {
     "name": "stdout",
     "output_type": "stream",
     "text": [
      "Correlation coefficient: 1.0\n",
      "Mean Squared Error: 25.0\n",
      "Root Mean Squared Error: 5.0\n",
      "Cosine Similarity: 0.9992616892260774\n"
     ]
    }
   ],
   "source": [
    "# Test similarity between LLM score and Human Expert\n",
    "import numpy as np\n",
    "from sklearn.metrics import mean_squared_error\n",
    "\n",
    "llm_scores = [60, 55, 47, 29, 15]\n",
    "# expert_scores = [score + 5 for score in llm_scores]\n",
    "expert_scores = [70, 55, 50, 18, 60]\n",
    "\n",
    "correlation = np.corrcoef(llm_scores, expert_scores)[0, 1]\n",
    "print(\"Correlation coefficient:\", correlation)\n",
    "\n",
    "mse = mean_squared_error(llm_scores, expert_scores)\n",
    "print(\"Mean Squared Error:\", mse)\n",
    "\n",
    "rmse = np.sqrt(mse)\n",
    "print(\"Root Mean Squared Error:\", rmse)"
   ]
  },
  {
   "cell_type": "code",
   "execution_count": 113,
   "metadata": {},
   "outputs": [
    {
     "name": "stdout",
     "output_type": "stream",
     "text": [
      "Number of transcripts longer than 1400 tokens: 2\n",
      "Evening guys and welcome back to my channel. And you're probably all wondering, what is Nocturnal Enuresis? Well to put it in basic terms for you to understand, it is called bed wetting. Which obviously involves wetting the bed during the night. Which is something that I have dealt with all my life. So out of 2-3% of people over the age of 18 plus, they suffer with Nocturnal Enuresis. Now there's two types of Nocturnal Enuresis. There is a primary Nocturnal Enuresis and there is also a secondary Nocturnal Enuresis. The short name for Nocturnal Enuresis, instead of saying the long word, is NE. Or for primary Nocturnal Enuresis it's PNE. For secondary SND and so on. Out of 5-10% people, bed wetting is caused by the development of the bladder. It's not necessarily anything to do with medical. Sometimes it can be medical related. Other times it's more found that it's actually family history orientated. So it runs through the bloodline, for example grandparents and grandparents, cousins and so on. Well I'm in the category of the primary, yes, I'm the primary Nocturnal Enuresis. Which means I have never had a prolonged period of having a dry night. I'm wetting the bed every single night, without fail. But if I was a secondary Nocturnal Enuresis, which means I've had a long period of time where I've gone without wetting the bed and then unfortunately I've started again. But in my case I've always wet the bed, I've never had a dry night. So unfortunately it is something that I have dealt with all my life and there has been a lot of help. Over the years of having bed wetting I've been asked what treatments have I used, what therapies have I been recommended and so on and so forth. Well from as far as I can remember when I was younger my doctor told me that I could be prescribed this certain tablet. Now forgive me I don't know what the name of this tablet was, I've forgotten because it was many years ago. And they recommended to my mum that she sits at the end of my bed and watches me just drifting off into her sleep. Well with that she would then have to prescribe me the medication. I'm not 100% keen on that because I'm half asleep, my mum's got to try and wake me up, give me a tablet and then I go back to sleep. So the process of that was pretty awkward, frustrating as such because you just wouldn't want to go to bed. But having to be given it as soon as you go to sleep, that was a bit hard to deal with. My other treatment that I had when I was around about 7, yeah around about 7 I was given the opportunity of trying out the alarm. Well my opinion on the alarm was horrible to be truthfully honest, I don't know what else to say apart from the fact that it was really annoying. It was a little, what can I say, it was like a little pad which would then be attached to a long wire which would then be attached to a little box. That little box would then get clipped to my pyjamas along with the string that would go through my pyjamas and into a pair of underwear with this thing in between. So as soon as a bit of urine of course touches that alarm, it sends the alarm and it starts going off. Which then obviously wakes me up and then I can go to the toilet and finish what my body had started in my sleep. Well after a while that didn't get any useful because I got used to the sound of the alarm. So when I wet I didn't hear it so then my mum would then get woken up by the alarm and then she'd have to come in and tell me. Well the next morning obviously I've woken up dry, not realising that my mum has actually come in, helped me go to the toilet and then I've gone back to bed. So within that time frame I've then woken up and gone, yay I'm dry, I'm dry. When it's like no darling you actually, you know you nearly had the accident but so on and so forth. So that was quite awkward. I have also tried protection as in protective sheets, plastic sheets, also protective dry nights as what they call them. Well they get called different nappies, diapers, dry nights, anything really. I have also tried them which I also tried when I was around 17 to 18. But obviously at that age you're wanting to experience more, go out more so how could I possibly do that with me wearing a nappy? So that was kind of downgrading for me but I got there in the end. I actually had a partner who encouraged me to protect and that was really reassuring. And now I'm actually on a medication and if I don't take this medication I will have an accident so it is literally I've got to take it every night because if I don't I wake up wet. The other day I actually went to sleep, I had a little nap around about 5 o'clock. Well because I wasn't actually going to bed I didn't take my tablet which obviously then meant when I woke up after having an hour, hour and a half nap obviously I'd had the accident and had to change. So it doesn't matter when I go to sleep, I could go to sleep 4 o'clock in the afternoon, I could have a nap at 12 and it would happen then so it doesn't matter if it's at night although it's called Nocturnal Enuresis it happens regardless even if I'm asleep throughout the day I will then obviously have the accident. Having Nocturnal Enuresis has been a struggle, it has been isolating at some times because I didn't go on school trips as you heard in my last video I didn't participate in anything that I should have as an individual like everyone else. I felt like because I'm the bed wetter I'm in the wrong and I'm not normal but the thing is I'm just like everyone else and it shouldn't change me and I think the reason why I'm doing this video is because I don't want others to feel like they have to hide themselves because I know what that was like and I've missed out on so much like I didn't go to trips to Wales or go on a 6 week trip to a different country to help them with the school I didn't get to do that because I didn't have the right mindset then to think well hang on a minute no I can do this and guess what you can, you can do this I know you can because I can, I didn't think I could do it but I mean I've done it I've flicked that lid off the bottle and I've done it and I wouldn't turn back because no matter how much hate I may get from this it's not going to bring me down and it shouldn't bring nobody down either I mean I'm just glad that I'm doing this and encouraging people to feel like they're not on their own because for years I felt like I was on my own and I shouldn't have and unfortunately I felt like I was on my own from people that didn't understand I felt like I was on my own from professionals that did understand but didn't want to put me in a category because of my age so unfortunately because of treatments and things I got the help that I needed but I didn't get the personal help to deal with it like I got told oh yeah you've got an undeveloped bladder you've got Nocturnal Enuresis blah blah that's it you know there was no really I heard that you could have surgeries and things like that but I've never been offered that because they don't see it as a medical condition they see it as they they go by what you drink how many cups of tea you've had throughout the day how many fizzy drinks you've had what certain food you eat when you eat them do you eat them past a certain time so they do like to they don't put their eggs all in one basket which is absolutely fantastic that that's grand but\n"
     ]
    }
   ],
   "source": [
    "import pandas as pd\n",
    "\n",
    "df = pd.read_csv(\"../Getting_Transcripts/filtered_videos_transcripts.csv\")\n",
    "# Assuming you have a DataFrame named df with 'Video ID' and 'Transcript' columns\n",
    "\n",
    "# Initialize a list to store 'Video ID's of transcripts longer than 1024 tokens\n",
    "ids = []\n",
    "max_words = 1400\n",
    "# Iterate over the DataFrame\n",
    "for idx, row in df.iterrows():\n",
    "    video_id = row['Video ID']\n",
    "    transcript = row['Transcript']\n",
    "    \n",
    "    # Tokenize the transcript to compute the length in terms of tokens\n",
    "    tokens = transcript.split()  # Assuming simple space-based tokenization\n",
    "    length = len(tokens)\n",
    "    if length > max_words:\n",
    "        # print(f\"Video ID: {video_id}, Transcript Length: {len(tokens)} tokens\")\n",
    "        ids.append(video_id)\n",
    "        if length > max_words and length < max_words + 50:\n",
    "            sample_transcript = transcript\n",
    "\n",
    "print(\"Number of transcripts longer than\", max_words, \"tokens:\", len(ids))\n",
    "\n",
    "print(sample_transcript)"
   ]
  },
  {
   "cell_type": "code",
   "execution_count": 2,
   "metadata": {},
   "outputs": [
    {
     "name": "stdout",
     "output_type": "stream",
     "text": [
      "1465\n"
     ]
    }
   ],
   "source": [
    "import pandas as pd\n",
    "\n",
    "df = pd.read_csv(\"../Getting_Transcripts/filtered_videos_transcripts.csv\")\n",
    "\n",
    "max_len_index = df['Transcript'].str.len().idxmax()\n",
    "# Retrieve the transcript from the row with the maximum length\n",
    "max_len_transcript = df.loc[max_len_index, 'Transcript']\n",
    "\n",
    "question_head = \"You are a medical expert. Analyze the following transcript of a YouTube video (enclosed between <<< and >>>) according to this question:\"\n",
    "question_tail = \"Return an integer score from 1 to 5, where 1 means 'no,' 2 to 4 means 'partially,' and 5 means 'yes.' Then, explain your choice.\"\n",
    "questions = [\n",
    "    \"Are the aims of the video clear?\",\n",
    "    \"Is the video clear what sources of information were used to compile the publication (other than the author)?\",\n",
    "\n",
    "]\n",
    "\n",
    "instruction = ' '.join([question_head, questions[1], question_tail])\n",
    "\n",
    "prompt = f'Instruction: {instruction}\\nTranscript: <<<{max_len_transcript}>>>\\nScore:'\n",
    "tokens = prompt.split()  # Assuming simple space-based tokenization\n",
    "print(len(tokens))"
   ]
  },
  {
   "cell_type": "code",
   "execution_count": 4,
   "metadata": {},
   "outputs": [
    {
     "name": "stderr",
     "output_type": "stream",
     "text": [
      "c:\\Users\\mkhalil\\AppData\\Local\\Programs\\Python\\Python312\\Lib\\site-packages\\tqdm\\auto.py:21: TqdmWarning: IProgress not found. Please update jupyter and ipywidgets. See https://ipywidgets.readthedocs.io/en/stable/user_install.html\n",
      "  from .autonotebook import tqdm as notebook_tqdm\n",
      "None of PyTorch, TensorFlow >= 2.0, or Flax have been found. Models won't be available and only tokenizers, configuration and file/data utilities can be used.\n",
      "c:\\Users\\mkhalil\\AppData\\Local\\Programs\\Python\\Python312\\Lib\\site-packages\\huggingface_hub\\file_download.py:148: UserWarning: `huggingface_hub` cache-system uses symlinks by default to efficiently store duplicated files but your machine does not support them in C:\\Users\\mkhalil\\.cache\\huggingface\\hub\\models--01-ai--Yi-34B. Caching files will still work but in a degraded version that might require more space on your disk. This warning can be disabled by setting the `HF_HUB_DISABLE_SYMLINKS_WARNING` environment variable. For more details, see https://huggingface.co/docs/huggingface_hub/how-to-cache#limitations.\n",
      "To support symlinks on Windows, you either need to activate Developer Mode or to run Python as an administrator. In order to see activate developer mode, see this article: https://docs.microsoft.com/en-us/windows/apps/get-started/enable-your-device-for-development\n",
      "  warnings.warn(message)\n"
     ]
    },
    {
     "name": "stdout",
     "output_type": "stream",
     "text": [
      "Model name:  01-ai/Yi-34B\n",
      "Token count: 1858\n",
      "\n"
     ]
    },
    {
     "name": "stderr",
     "output_type": "stream",
     "text": [
      "c:\\Users\\mkhalil\\AppData\\Local\\Programs\\Python\\Python312\\Lib\\site-packages\\huggingface_hub\\file_download.py:148: UserWarning: `huggingface_hub` cache-system uses symlinks by default to efficiently store duplicated files but your machine does not support them in C:\\Users\\mkhalil\\.cache\\huggingface\\hub\\models--Qwen--Qwen1.5-72B. Caching files will still work but in a degraded version that might require more space on your disk. This warning can be disabled by setting the `HF_HUB_DISABLE_SYMLINKS_WARNING` environment variable. For more details, see https://huggingface.co/docs/huggingface_hub/how-to-cache#limitations.\n",
      "To support symlinks on Windows, you either need to activate Developer Mode or to run Python as an administrator. In order to see activate developer mode, see this article: https://docs.microsoft.com/en-us/windows/apps/get-started/enable-your-device-for-development\n",
      "  warnings.warn(message)\n",
      "Special tokens have been added in the vocabulary, make sure the associated word embeddings are fine-tuned or trained.\n"
     ]
    },
    {
     "name": "stdout",
     "output_type": "stream",
     "text": [
      "Model name:  Qwen/Qwen1.5-72B\n",
      "Token count: 1751\n",
      "\n"
     ]
    },
    {
     "ename": "OSError",
     "evalue": "WizardLM/WizardCoder-33B-V1.1 is not a local folder and is not a valid model identifier listed on 'https://huggingface.co/models'\nIf this is a private repository, make sure to pass a token having permission to this repo either by logging in with `huggingface-cli login` or by passing `token=<your_token>`",
     "output_type": "error",
     "traceback": [
      "\u001b[1;31m---------------------------------------------------------------------------\u001b[0m",
      "\u001b[1;31mHTTPError\u001b[0m                                 Traceback (most recent call last)",
      "File \u001b[1;32mc:\\Users\\mkhalil\\AppData\\Local\\Programs\\Python\\Python312\\Lib\\site-packages\\huggingface_hub\\utils\\_errors.py:304\u001b[0m, in \u001b[0;36mhf_raise_for_status\u001b[1;34m(response, endpoint_name)\u001b[0m\n\u001b[0;32m    303\u001b[0m \u001b[38;5;28;01mtry\u001b[39;00m:\n\u001b[1;32m--> 304\u001b[0m     \u001b[43mresponse\u001b[49m\u001b[38;5;241;43m.\u001b[39;49m\u001b[43mraise_for_status\u001b[49m\u001b[43m(\u001b[49m\u001b[43m)\u001b[49m\n\u001b[0;32m    305\u001b[0m \u001b[38;5;28;01mexcept\u001b[39;00m HTTPError \u001b[38;5;28;01mas\u001b[39;00m e:\n",
      "File \u001b[1;32m~\\AppData\\Roaming\\Python\\Python312\\site-packages\\requests\\models.py:1021\u001b[0m, in \u001b[0;36mResponse.raise_for_status\u001b[1;34m(self)\u001b[0m\n\u001b[0;32m   1020\u001b[0m \u001b[38;5;28;01mif\u001b[39;00m http_error_msg:\n\u001b[1;32m-> 1021\u001b[0m     \u001b[38;5;28;01mraise\u001b[39;00m HTTPError(http_error_msg, response\u001b[38;5;241m=\u001b[39m\u001b[38;5;28mself\u001b[39m)\n",
      "\u001b[1;31mHTTPError\u001b[0m: 401 Client Error: Unauthorized for url: https://huggingface.co/WizardLM/WizardCoder-33B-V1.1/resolve/main/tokenizer_config.json",
      "\nThe above exception was the direct cause of the following exception:\n",
      "\u001b[1;31mRepositoryNotFoundError\u001b[0m                   Traceback (most recent call last)",
      "File \u001b[1;32mc:\\Users\\mkhalil\\AppData\\Local\\Programs\\Python\\Python312\\Lib\\site-packages\\transformers\\utils\\hub.py:398\u001b[0m, in \u001b[0;36mcached_file\u001b[1;34m(path_or_repo_id, filename, cache_dir, force_download, resume_download, proxies, token, revision, local_files_only, subfolder, repo_type, user_agent, _raise_exceptions_for_gated_repo, _raise_exceptions_for_missing_entries, _raise_exceptions_for_connection_errors, _commit_hash, **deprecated_kwargs)\u001b[0m\n\u001b[0;32m    396\u001b[0m \u001b[38;5;28;01mtry\u001b[39;00m:\n\u001b[0;32m    397\u001b[0m     \u001b[38;5;66;03m# Load from URL or cache if already cached\u001b[39;00m\n\u001b[1;32m--> 398\u001b[0m     resolved_file \u001b[38;5;241m=\u001b[39m \u001b[43mhf_hub_download\u001b[49m\u001b[43m(\u001b[49m\n\u001b[0;32m    399\u001b[0m \u001b[43m        \u001b[49m\u001b[43mpath_or_repo_id\u001b[49m\u001b[43m,\u001b[49m\n\u001b[0;32m    400\u001b[0m \u001b[43m        \u001b[49m\u001b[43mfilename\u001b[49m\u001b[43m,\u001b[49m\n\u001b[0;32m    401\u001b[0m \u001b[43m        \u001b[49m\u001b[43msubfolder\u001b[49m\u001b[38;5;241;43m=\u001b[39;49m\u001b[38;5;28;43;01mNone\u001b[39;49;00m\u001b[43m \u001b[49m\u001b[38;5;28;43;01mif\u001b[39;49;00m\u001b[43m \u001b[49m\u001b[38;5;28;43mlen\u001b[39;49m\u001b[43m(\u001b[49m\u001b[43msubfolder\u001b[49m\u001b[43m)\u001b[49m\u001b[43m \u001b[49m\u001b[38;5;241;43m==\u001b[39;49m\u001b[43m \u001b[49m\u001b[38;5;241;43m0\u001b[39;49m\u001b[43m \u001b[49m\u001b[38;5;28;43;01melse\u001b[39;49;00m\u001b[43m \u001b[49m\u001b[43msubfolder\u001b[49m\u001b[43m,\u001b[49m\n\u001b[0;32m    402\u001b[0m \u001b[43m        \u001b[49m\u001b[43mrepo_type\u001b[49m\u001b[38;5;241;43m=\u001b[39;49m\u001b[43mrepo_type\u001b[49m\u001b[43m,\u001b[49m\n\u001b[0;32m    403\u001b[0m \u001b[43m        \u001b[49m\u001b[43mrevision\u001b[49m\u001b[38;5;241;43m=\u001b[39;49m\u001b[43mrevision\u001b[49m\u001b[43m,\u001b[49m\n\u001b[0;32m    404\u001b[0m \u001b[43m        \u001b[49m\u001b[43mcache_dir\u001b[49m\u001b[38;5;241;43m=\u001b[39;49m\u001b[43mcache_dir\u001b[49m\u001b[43m,\u001b[49m\n\u001b[0;32m    405\u001b[0m \u001b[43m        \u001b[49m\u001b[43muser_agent\u001b[49m\u001b[38;5;241;43m=\u001b[39;49m\u001b[43muser_agent\u001b[49m\u001b[43m,\u001b[49m\n\u001b[0;32m    406\u001b[0m \u001b[43m        \u001b[49m\u001b[43mforce_download\u001b[49m\u001b[38;5;241;43m=\u001b[39;49m\u001b[43mforce_download\u001b[49m\u001b[43m,\u001b[49m\n\u001b[0;32m    407\u001b[0m \u001b[43m        \u001b[49m\u001b[43mproxies\u001b[49m\u001b[38;5;241;43m=\u001b[39;49m\u001b[43mproxies\u001b[49m\u001b[43m,\u001b[49m\n\u001b[0;32m    408\u001b[0m \u001b[43m        \u001b[49m\u001b[43mresume_download\u001b[49m\u001b[38;5;241;43m=\u001b[39;49m\u001b[43mresume_download\u001b[49m\u001b[43m,\u001b[49m\n\u001b[0;32m    409\u001b[0m \u001b[43m        \u001b[49m\u001b[43mtoken\u001b[49m\u001b[38;5;241;43m=\u001b[39;49m\u001b[43mtoken\u001b[49m\u001b[43m,\u001b[49m\n\u001b[0;32m    410\u001b[0m \u001b[43m        \u001b[49m\u001b[43mlocal_files_only\u001b[49m\u001b[38;5;241;43m=\u001b[39;49m\u001b[43mlocal_files_only\u001b[49m\u001b[43m,\u001b[49m\n\u001b[0;32m    411\u001b[0m \u001b[43m    \u001b[49m\u001b[43m)\u001b[49m\n\u001b[0;32m    412\u001b[0m \u001b[38;5;28;01mexcept\u001b[39;00m GatedRepoError \u001b[38;5;28;01mas\u001b[39;00m e:\n",
      "File \u001b[1;32mc:\\Users\\mkhalil\\AppData\\Local\\Programs\\Python\\Python312\\Lib\\site-packages\\huggingface_hub\\utils\\_validators.py:119\u001b[0m, in \u001b[0;36mvalidate_hf_hub_args.<locals>._inner_fn\u001b[1;34m(*args, **kwargs)\u001b[0m\n\u001b[0;32m    117\u001b[0m     kwargs \u001b[38;5;241m=\u001b[39m smoothly_deprecate_use_auth_token(fn_name\u001b[38;5;241m=\u001b[39mfn\u001b[38;5;241m.\u001b[39m\u001b[38;5;18m__name__\u001b[39m, has_token\u001b[38;5;241m=\u001b[39mhas_token, kwargs\u001b[38;5;241m=\u001b[39mkwargs)\n\u001b[1;32m--> 119\u001b[0m \u001b[38;5;28;01mreturn\u001b[39;00m \u001b[43mfn\u001b[49m\u001b[43m(\u001b[49m\u001b[38;5;241;43m*\u001b[39;49m\u001b[43margs\u001b[49m\u001b[43m,\u001b[49m\u001b[43m \u001b[49m\u001b[38;5;241;43m*\u001b[39;49m\u001b[38;5;241;43m*\u001b[39;49m\u001b[43mkwargs\u001b[49m\u001b[43m)\u001b[49m\n",
      "File \u001b[1;32mc:\\Users\\mkhalil\\AppData\\Local\\Programs\\Python\\Python312\\Lib\\site-packages\\huggingface_hub\\file_download.py:1403\u001b[0m, in \u001b[0;36mhf_hub_download\u001b[1;34m(repo_id, filename, subfolder, repo_type, revision, library_name, library_version, cache_dir, local_dir, local_dir_use_symlinks, user_agent, force_download, force_filename, proxies, etag_timeout, resume_download, token, local_files_only, headers, legacy_cache_layout, endpoint)\u001b[0m\n\u001b[0;32m   1401\u001b[0m \u001b[38;5;28;01melif\u001b[39;00m \u001b[38;5;28misinstance\u001b[39m(head_call_error, RepositoryNotFoundError) \u001b[38;5;129;01mor\u001b[39;00m \u001b[38;5;28misinstance\u001b[39m(head_call_error, GatedRepoError):\n\u001b[0;32m   1402\u001b[0m     \u001b[38;5;66;03m# Repo not found or gated => let's raise the actual error\u001b[39;00m\n\u001b[1;32m-> 1403\u001b[0m     \u001b[38;5;28;01mraise\u001b[39;00m head_call_error\n\u001b[0;32m   1404\u001b[0m \u001b[38;5;28;01melse\u001b[39;00m:\n\u001b[0;32m   1405\u001b[0m     \u001b[38;5;66;03m# Otherwise: most likely a connection issue or Hub downtime => let's warn the user\u001b[39;00m\n",
      "File \u001b[1;32mc:\\Users\\mkhalil\\AppData\\Local\\Programs\\Python\\Python312\\Lib\\site-packages\\huggingface_hub\\file_download.py:1261\u001b[0m, in \u001b[0;36mhf_hub_download\u001b[1;34m(repo_id, filename, subfolder, repo_type, revision, library_name, library_version, cache_dir, local_dir, local_dir_use_symlinks, user_agent, force_download, force_filename, proxies, etag_timeout, resume_download, token, local_files_only, headers, legacy_cache_layout, endpoint)\u001b[0m\n\u001b[0;32m   1260\u001b[0m \u001b[38;5;28;01mtry\u001b[39;00m:\n\u001b[1;32m-> 1261\u001b[0m     metadata \u001b[38;5;241m=\u001b[39m \u001b[43mget_hf_file_metadata\u001b[49m\u001b[43m(\u001b[49m\n\u001b[0;32m   1262\u001b[0m \u001b[43m        \u001b[49m\u001b[43murl\u001b[49m\u001b[38;5;241;43m=\u001b[39;49m\u001b[43murl\u001b[49m\u001b[43m,\u001b[49m\n\u001b[0;32m   1263\u001b[0m \u001b[43m        \u001b[49m\u001b[43mtoken\u001b[49m\u001b[38;5;241;43m=\u001b[39;49m\u001b[43mtoken\u001b[49m\u001b[43m,\u001b[49m\n\u001b[0;32m   1264\u001b[0m \u001b[43m        \u001b[49m\u001b[43mproxies\u001b[49m\u001b[38;5;241;43m=\u001b[39;49m\u001b[43mproxies\u001b[49m\u001b[43m,\u001b[49m\n\u001b[0;32m   1265\u001b[0m \u001b[43m        \u001b[49m\u001b[43mtimeout\u001b[49m\u001b[38;5;241;43m=\u001b[39;49m\u001b[43metag_timeout\u001b[49m\u001b[43m,\u001b[49m\n\u001b[0;32m   1266\u001b[0m \u001b[43m        \u001b[49m\u001b[43mlibrary_name\u001b[49m\u001b[38;5;241;43m=\u001b[39;49m\u001b[43mlibrary_name\u001b[49m\u001b[43m,\u001b[49m\n\u001b[0;32m   1267\u001b[0m \u001b[43m        \u001b[49m\u001b[43mlibrary_version\u001b[49m\u001b[38;5;241;43m=\u001b[39;49m\u001b[43mlibrary_version\u001b[49m\u001b[43m,\u001b[49m\n\u001b[0;32m   1268\u001b[0m \u001b[43m        \u001b[49m\u001b[43muser_agent\u001b[49m\u001b[38;5;241;43m=\u001b[39;49m\u001b[43muser_agent\u001b[49m\u001b[43m,\u001b[49m\n\u001b[0;32m   1269\u001b[0m \u001b[43m    \u001b[49m\u001b[43m)\u001b[49m\n\u001b[0;32m   1270\u001b[0m \u001b[38;5;28;01mexcept\u001b[39;00m EntryNotFoundError \u001b[38;5;28;01mas\u001b[39;00m http_error:\n\u001b[0;32m   1271\u001b[0m     \u001b[38;5;66;03m# Cache the non-existence of the file and raise\u001b[39;00m\n",
      "File \u001b[1;32mc:\\Users\\mkhalil\\AppData\\Local\\Programs\\Python\\Python312\\Lib\\site-packages\\huggingface_hub\\utils\\_validators.py:119\u001b[0m, in \u001b[0;36mvalidate_hf_hub_args.<locals>._inner_fn\u001b[1;34m(*args, **kwargs)\u001b[0m\n\u001b[0;32m    117\u001b[0m     kwargs \u001b[38;5;241m=\u001b[39m smoothly_deprecate_use_auth_token(fn_name\u001b[38;5;241m=\u001b[39mfn\u001b[38;5;241m.\u001b[39m\u001b[38;5;18m__name__\u001b[39m, has_token\u001b[38;5;241m=\u001b[39mhas_token, kwargs\u001b[38;5;241m=\u001b[39mkwargs)\n\u001b[1;32m--> 119\u001b[0m \u001b[38;5;28;01mreturn\u001b[39;00m \u001b[43mfn\u001b[49m\u001b[43m(\u001b[49m\u001b[38;5;241;43m*\u001b[39;49m\u001b[43margs\u001b[49m\u001b[43m,\u001b[49m\u001b[43m \u001b[49m\u001b[38;5;241;43m*\u001b[39;49m\u001b[38;5;241;43m*\u001b[39;49m\u001b[43mkwargs\u001b[49m\u001b[43m)\u001b[49m\n",
      "File \u001b[1;32mc:\\Users\\mkhalil\\AppData\\Local\\Programs\\Python\\Python312\\Lib\\site-packages\\huggingface_hub\\file_download.py:1674\u001b[0m, in \u001b[0;36mget_hf_file_metadata\u001b[1;34m(url, token, proxies, timeout, library_name, library_version, user_agent, headers)\u001b[0m\n\u001b[0;32m   1673\u001b[0m \u001b[38;5;66;03m# Retrieve metadata\u001b[39;00m\n\u001b[1;32m-> 1674\u001b[0m r \u001b[38;5;241m=\u001b[39m \u001b[43m_request_wrapper\u001b[49m\u001b[43m(\u001b[49m\n\u001b[0;32m   1675\u001b[0m \u001b[43m    \u001b[49m\u001b[43mmethod\u001b[49m\u001b[38;5;241;43m=\u001b[39;49m\u001b[38;5;124;43m\"\u001b[39;49m\u001b[38;5;124;43mHEAD\u001b[39;49m\u001b[38;5;124;43m\"\u001b[39;49m\u001b[43m,\u001b[49m\n\u001b[0;32m   1676\u001b[0m \u001b[43m    \u001b[49m\u001b[43murl\u001b[49m\u001b[38;5;241;43m=\u001b[39;49m\u001b[43murl\u001b[49m\u001b[43m,\u001b[49m\n\u001b[0;32m   1677\u001b[0m \u001b[43m    \u001b[49m\u001b[43mheaders\u001b[49m\u001b[38;5;241;43m=\u001b[39;49m\u001b[43mheaders\u001b[49m\u001b[43m,\u001b[49m\n\u001b[0;32m   1678\u001b[0m \u001b[43m    \u001b[49m\u001b[43mallow_redirects\u001b[49m\u001b[38;5;241;43m=\u001b[39;49m\u001b[38;5;28;43;01mFalse\u001b[39;49;00m\u001b[43m,\u001b[49m\n\u001b[0;32m   1679\u001b[0m \u001b[43m    \u001b[49m\u001b[43mfollow_relative_redirects\u001b[49m\u001b[38;5;241;43m=\u001b[39;49m\u001b[38;5;28;43;01mTrue\u001b[39;49;00m\u001b[43m,\u001b[49m\n\u001b[0;32m   1680\u001b[0m \u001b[43m    \u001b[49m\u001b[43mproxies\u001b[49m\u001b[38;5;241;43m=\u001b[39;49m\u001b[43mproxies\u001b[49m\u001b[43m,\u001b[49m\n\u001b[0;32m   1681\u001b[0m \u001b[43m    \u001b[49m\u001b[43mtimeout\u001b[49m\u001b[38;5;241;43m=\u001b[39;49m\u001b[43mtimeout\u001b[49m\u001b[43m,\u001b[49m\n\u001b[0;32m   1682\u001b[0m \u001b[43m\u001b[49m\u001b[43m)\u001b[49m\n\u001b[0;32m   1683\u001b[0m hf_raise_for_status(r)\n",
      "File \u001b[1;32mc:\\Users\\mkhalil\\AppData\\Local\\Programs\\Python\\Python312\\Lib\\site-packages\\huggingface_hub\\file_download.py:369\u001b[0m, in \u001b[0;36m_request_wrapper\u001b[1;34m(method, url, follow_relative_redirects, **params)\u001b[0m\n\u001b[0;32m    368\u001b[0m \u001b[38;5;28;01mif\u001b[39;00m follow_relative_redirects:\n\u001b[1;32m--> 369\u001b[0m     response \u001b[38;5;241m=\u001b[39m \u001b[43m_request_wrapper\u001b[49m\u001b[43m(\u001b[49m\n\u001b[0;32m    370\u001b[0m \u001b[43m        \u001b[49m\u001b[43mmethod\u001b[49m\u001b[38;5;241;43m=\u001b[39;49m\u001b[43mmethod\u001b[49m\u001b[43m,\u001b[49m\n\u001b[0;32m    371\u001b[0m \u001b[43m        \u001b[49m\u001b[43murl\u001b[49m\u001b[38;5;241;43m=\u001b[39;49m\u001b[43murl\u001b[49m\u001b[43m,\u001b[49m\n\u001b[0;32m    372\u001b[0m \u001b[43m        \u001b[49m\u001b[43mfollow_relative_redirects\u001b[49m\u001b[38;5;241;43m=\u001b[39;49m\u001b[38;5;28;43;01mFalse\u001b[39;49;00m\u001b[43m,\u001b[49m\n\u001b[0;32m    373\u001b[0m \u001b[43m        \u001b[49m\u001b[38;5;241;43m*\u001b[39;49m\u001b[38;5;241;43m*\u001b[39;49m\u001b[43mparams\u001b[49m\u001b[43m,\u001b[49m\n\u001b[0;32m    374\u001b[0m \u001b[43m    \u001b[49m\u001b[43m)\u001b[49m\n\u001b[0;32m    376\u001b[0m     \u001b[38;5;66;03m# If redirection, we redirect only relative paths.\u001b[39;00m\n\u001b[0;32m    377\u001b[0m     \u001b[38;5;66;03m# This is useful in case of a renamed repository.\u001b[39;00m\n",
      "File \u001b[1;32mc:\\Users\\mkhalil\\AppData\\Local\\Programs\\Python\\Python312\\Lib\\site-packages\\huggingface_hub\\file_download.py:393\u001b[0m, in \u001b[0;36m_request_wrapper\u001b[1;34m(method, url, follow_relative_redirects, **params)\u001b[0m\n\u001b[0;32m    392\u001b[0m response \u001b[38;5;241m=\u001b[39m get_session()\u001b[38;5;241m.\u001b[39mrequest(method\u001b[38;5;241m=\u001b[39mmethod, url\u001b[38;5;241m=\u001b[39murl, \u001b[38;5;241m*\u001b[39m\u001b[38;5;241m*\u001b[39mparams)\n\u001b[1;32m--> 393\u001b[0m \u001b[43mhf_raise_for_status\u001b[49m\u001b[43m(\u001b[49m\u001b[43mresponse\u001b[49m\u001b[43m)\u001b[49m\n\u001b[0;32m    394\u001b[0m \u001b[38;5;28;01mreturn\u001b[39;00m response\n",
      "File \u001b[1;32mc:\\Users\\mkhalil\\AppData\\Local\\Programs\\Python\\Python312\\Lib\\site-packages\\huggingface_hub\\utils\\_errors.py:352\u001b[0m, in \u001b[0;36mhf_raise_for_status\u001b[1;34m(response, endpoint_name)\u001b[0m\n\u001b[0;32m    344\u001b[0m     message \u001b[38;5;241m=\u001b[39m (\n\u001b[0;32m    345\u001b[0m         \u001b[38;5;124mf\u001b[39m\u001b[38;5;124m\"\u001b[39m\u001b[38;5;132;01m{\u001b[39;00mresponse\u001b[38;5;241m.\u001b[39mstatus_code\u001b[38;5;132;01m}\u001b[39;00m\u001b[38;5;124m Client Error.\u001b[39m\u001b[38;5;124m\"\u001b[39m\n\u001b[0;32m    346\u001b[0m         \u001b[38;5;241m+\u001b[39m \u001b[38;5;124m\"\u001b[39m\u001b[38;5;130;01m\\n\u001b[39;00m\u001b[38;5;130;01m\\n\u001b[39;00m\u001b[38;5;124m\"\u001b[39m\n\u001b[1;32m   (...)\u001b[0m\n\u001b[0;32m    350\u001b[0m         \u001b[38;5;124m\"\u001b[39m\u001b[38;5;124m make sure you are authenticated.\u001b[39m\u001b[38;5;124m\"\u001b[39m\n\u001b[0;32m    351\u001b[0m     )\n\u001b[1;32m--> 352\u001b[0m     \u001b[38;5;28;01mraise\u001b[39;00m RepositoryNotFoundError(message, response) \u001b[38;5;28;01mfrom\u001b[39;00m \u001b[38;5;21;01me\u001b[39;00m\n\u001b[0;32m    354\u001b[0m \u001b[38;5;28;01melif\u001b[39;00m response\u001b[38;5;241m.\u001b[39mstatus_code \u001b[38;5;241m==\u001b[39m \u001b[38;5;241m400\u001b[39m:\n",
      "\u001b[1;31mRepositoryNotFoundError\u001b[0m: 401 Client Error. (Request ID: Root=1-661e0c65-1ee36b9b7aef980d6a9bd440;d5a70218-2134-4aea-b277-92d9bb963f6e)\n\nRepository Not Found for url: https://huggingface.co/WizardLM/WizardCoder-33B-V1.1/resolve/main/tokenizer_config.json.\nPlease make sure you specified the correct `repo_id` and `repo_type`.\nIf you are trying to access a private or gated repo, make sure you are authenticated.\nInvalid username or password.",
      "\nThe above exception was the direct cause of the following exception:\n",
      "\u001b[1;31mOSError\u001b[0m                                   Traceback (most recent call last)",
      "Cell \u001b[1;32mIn[4], line 74\u001b[0m\n\u001b[0;32m     71\u001b[0m tokens_number \u001b[38;5;241m=\u001b[39m []\n\u001b[0;32m     72\u001b[0m \u001b[38;5;28;01mfor\u001b[39;00m model_id \u001b[38;5;129;01min\u001b[39;00m models:\n\u001b[1;32m---> 74\u001b[0m     tokenizer \u001b[38;5;241m=\u001b[39m \u001b[43mAutoTokenizer\u001b[49m\u001b[38;5;241;43m.\u001b[39;49m\u001b[43mfrom_pretrained\u001b[49m\u001b[43m(\u001b[49m\u001b[43mmodel_id\u001b[49m\u001b[43m,\u001b[49m\u001b[43m \u001b[49m\u001b[43mlegacy\u001b[49m\u001b[38;5;241;43m=\u001b[39;49m\u001b[38;5;28;43;01mFalse\u001b[39;49;00m\u001b[43m,\u001b[49m\u001b[43m \u001b[49m\u001b[43mtrust_remote_code\u001b[49m\u001b[38;5;241;43m=\u001b[39;49m\u001b[38;5;28;43;01mTrue\u001b[39;49;00m\u001b[43m)\u001b[49m\n\u001b[0;32m     76\u001b[0m     tokens \u001b[38;5;241m=\u001b[39m tokenizer(prompt)\n\u001b[0;32m     77\u001b[0m     tokens_number\u001b[38;5;241m.\u001b[39mappend(\u001b[38;5;28mlen\u001b[39m(tokens[\u001b[38;5;124m'\u001b[39m\u001b[38;5;124minput_ids\u001b[39m\u001b[38;5;124m'\u001b[39m]))\n",
      "File \u001b[1;32mc:\\Users\\mkhalil\\AppData\\Local\\Programs\\Python\\Python312\\Lib\\site-packages\\transformers\\models\\auto\\tokenization_auto.py:779\u001b[0m, in \u001b[0;36mAutoTokenizer.from_pretrained\u001b[1;34m(cls, pretrained_model_name_or_path, *inputs, **kwargs)\u001b[0m\n\u001b[0;32m    776\u001b[0m     \u001b[38;5;28;01mreturn\u001b[39;00m tokenizer_class\u001b[38;5;241m.\u001b[39mfrom_pretrained(pretrained_model_name_or_path, \u001b[38;5;241m*\u001b[39minputs, \u001b[38;5;241m*\u001b[39m\u001b[38;5;241m*\u001b[39mkwargs)\n\u001b[0;32m    778\u001b[0m \u001b[38;5;66;03m# Next, let's try to use the tokenizer_config file to get the tokenizer class.\u001b[39;00m\n\u001b[1;32m--> 779\u001b[0m tokenizer_config \u001b[38;5;241m=\u001b[39m \u001b[43mget_tokenizer_config\u001b[49m\u001b[43m(\u001b[49m\u001b[43mpretrained_model_name_or_path\u001b[49m\u001b[43m,\u001b[49m\u001b[43m \u001b[49m\u001b[38;5;241;43m*\u001b[39;49m\u001b[38;5;241;43m*\u001b[39;49m\u001b[43mkwargs\u001b[49m\u001b[43m)\u001b[49m\n\u001b[0;32m    780\u001b[0m \u001b[38;5;28;01mif\u001b[39;00m \u001b[38;5;124m\"\u001b[39m\u001b[38;5;124m_commit_hash\u001b[39m\u001b[38;5;124m\"\u001b[39m \u001b[38;5;129;01min\u001b[39;00m tokenizer_config:\n\u001b[0;32m    781\u001b[0m     kwargs[\u001b[38;5;124m\"\u001b[39m\u001b[38;5;124m_commit_hash\u001b[39m\u001b[38;5;124m\"\u001b[39m] \u001b[38;5;241m=\u001b[39m tokenizer_config[\u001b[38;5;124m\"\u001b[39m\u001b[38;5;124m_commit_hash\u001b[39m\u001b[38;5;124m\"\u001b[39m]\n",
      "File \u001b[1;32mc:\\Users\\mkhalil\\AppData\\Local\\Programs\\Python\\Python312\\Lib\\site-packages\\transformers\\models\\auto\\tokenization_auto.py:612\u001b[0m, in \u001b[0;36mget_tokenizer_config\u001b[1;34m(pretrained_model_name_or_path, cache_dir, force_download, resume_download, proxies, token, revision, local_files_only, subfolder, **kwargs)\u001b[0m\n\u001b[0;32m    609\u001b[0m     token \u001b[38;5;241m=\u001b[39m use_auth_token\n\u001b[0;32m    611\u001b[0m commit_hash \u001b[38;5;241m=\u001b[39m kwargs\u001b[38;5;241m.\u001b[39mget(\u001b[38;5;124m\"\u001b[39m\u001b[38;5;124m_commit_hash\u001b[39m\u001b[38;5;124m\"\u001b[39m, \u001b[38;5;28;01mNone\u001b[39;00m)\n\u001b[1;32m--> 612\u001b[0m resolved_config_file \u001b[38;5;241m=\u001b[39m \u001b[43mcached_file\u001b[49m\u001b[43m(\u001b[49m\n\u001b[0;32m    613\u001b[0m \u001b[43m    \u001b[49m\u001b[43mpretrained_model_name_or_path\u001b[49m\u001b[43m,\u001b[49m\n\u001b[0;32m    614\u001b[0m \u001b[43m    \u001b[49m\u001b[43mTOKENIZER_CONFIG_FILE\u001b[49m\u001b[43m,\u001b[49m\n\u001b[0;32m    615\u001b[0m \u001b[43m    \u001b[49m\u001b[43mcache_dir\u001b[49m\u001b[38;5;241;43m=\u001b[39;49m\u001b[43mcache_dir\u001b[49m\u001b[43m,\u001b[49m\n\u001b[0;32m    616\u001b[0m \u001b[43m    \u001b[49m\u001b[43mforce_download\u001b[49m\u001b[38;5;241;43m=\u001b[39;49m\u001b[43mforce_download\u001b[49m\u001b[43m,\u001b[49m\n\u001b[0;32m    617\u001b[0m \u001b[43m    \u001b[49m\u001b[43mresume_download\u001b[49m\u001b[38;5;241;43m=\u001b[39;49m\u001b[43mresume_download\u001b[49m\u001b[43m,\u001b[49m\n\u001b[0;32m    618\u001b[0m \u001b[43m    \u001b[49m\u001b[43mproxies\u001b[49m\u001b[38;5;241;43m=\u001b[39;49m\u001b[43mproxies\u001b[49m\u001b[43m,\u001b[49m\n\u001b[0;32m    619\u001b[0m \u001b[43m    \u001b[49m\u001b[43mtoken\u001b[49m\u001b[38;5;241;43m=\u001b[39;49m\u001b[43mtoken\u001b[49m\u001b[43m,\u001b[49m\n\u001b[0;32m    620\u001b[0m \u001b[43m    \u001b[49m\u001b[43mrevision\u001b[49m\u001b[38;5;241;43m=\u001b[39;49m\u001b[43mrevision\u001b[49m\u001b[43m,\u001b[49m\n\u001b[0;32m    621\u001b[0m \u001b[43m    \u001b[49m\u001b[43mlocal_files_only\u001b[49m\u001b[38;5;241;43m=\u001b[39;49m\u001b[43mlocal_files_only\u001b[49m\u001b[43m,\u001b[49m\n\u001b[0;32m    622\u001b[0m \u001b[43m    \u001b[49m\u001b[43msubfolder\u001b[49m\u001b[38;5;241;43m=\u001b[39;49m\u001b[43msubfolder\u001b[49m\u001b[43m,\u001b[49m\n\u001b[0;32m    623\u001b[0m \u001b[43m    \u001b[49m\u001b[43m_raise_exceptions_for_gated_repo\u001b[49m\u001b[38;5;241;43m=\u001b[39;49m\u001b[38;5;28;43;01mFalse\u001b[39;49;00m\u001b[43m,\u001b[49m\n\u001b[0;32m    624\u001b[0m \u001b[43m    \u001b[49m\u001b[43m_raise_exceptions_for_missing_entries\u001b[49m\u001b[38;5;241;43m=\u001b[39;49m\u001b[38;5;28;43;01mFalse\u001b[39;49;00m\u001b[43m,\u001b[49m\n\u001b[0;32m    625\u001b[0m \u001b[43m    \u001b[49m\u001b[43m_raise_exceptions_for_connection_errors\u001b[49m\u001b[38;5;241;43m=\u001b[39;49m\u001b[38;5;28;43;01mFalse\u001b[39;49;00m\u001b[43m,\u001b[49m\n\u001b[0;32m    626\u001b[0m \u001b[43m    \u001b[49m\u001b[43m_commit_hash\u001b[49m\u001b[38;5;241;43m=\u001b[39;49m\u001b[43mcommit_hash\u001b[49m\u001b[43m,\u001b[49m\n\u001b[0;32m    627\u001b[0m \u001b[43m\u001b[49m\u001b[43m)\u001b[49m\n\u001b[0;32m    628\u001b[0m \u001b[38;5;28;01mif\u001b[39;00m resolved_config_file \u001b[38;5;129;01mis\u001b[39;00m \u001b[38;5;28;01mNone\u001b[39;00m:\n\u001b[0;32m    629\u001b[0m     logger\u001b[38;5;241m.\u001b[39minfo(\u001b[38;5;124m\"\u001b[39m\u001b[38;5;124mCould not locate the tokenizer configuration file, will try to use the model config instead.\u001b[39m\u001b[38;5;124m\"\u001b[39m)\n",
      "File \u001b[1;32mc:\\Users\\mkhalil\\AppData\\Local\\Programs\\Python\\Python312\\Lib\\site-packages\\transformers\\utils\\hub.py:421\u001b[0m, in \u001b[0;36mcached_file\u001b[1;34m(path_or_repo_id, filename, cache_dir, force_download, resume_download, proxies, token, revision, local_files_only, subfolder, repo_type, user_agent, _raise_exceptions_for_gated_repo, _raise_exceptions_for_missing_entries, _raise_exceptions_for_connection_errors, _commit_hash, **deprecated_kwargs)\u001b[0m\n\u001b[0;32m    416\u001b[0m     \u001b[38;5;28;01mraise\u001b[39;00m \u001b[38;5;167;01mEnvironmentError\u001b[39;00m(\n\u001b[0;32m    417\u001b[0m         \u001b[38;5;124m\"\u001b[39m\u001b[38;5;124mYou are trying to access a gated repo.\u001b[39m\u001b[38;5;130;01m\\n\u001b[39;00m\u001b[38;5;124mMake sure to have access to it at \u001b[39m\u001b[38;5;124m\"\u001b[39m\n\u001b[0;32m    418\u001b[0m         \u001b[38;5;124mf\u001b[39m\u001b[38;5;124m\"\u001b[39m\u001b[38;5;124mhttps://huggingface.co/\u001b[39m\u001b[38;5;132;01m{\u001b[39;00mpath_or_repo_id\u001b[38;5;132;01m}\u001b[39;00m\u001b[38;5;124m.\u001b[39m\u001b[38;5;130;01m\\n\u001b[39;00m\u001b[38;5;132;01m{\u001b[39;00m\u001b[38;5;28mstr\u001b[39m(e)\u001b[38;5;132;01m}\u001b[39;00m\u001b[38;5;124m\"\u001b[39m\n\u001b[0;32m    419\u001b[0m     ) \u001b[38;5;28;01mfrom\u001b[39;00m \u001b[38;5;21;01me\u001b[39;00m\n\u001b[0;32m    420\u001b[0m \u001b[38;5;28;01mexcept\u001b[39;00m RepositoryNotFoundError \u001b[38;5;28;01mas\u001b[39;00m e:\n\u001b[1;32m--> 421\u001b[0m     \u001b[38;5;28;01mraise\u001b[39;00m \u001b[38;5;167;01mEnvironmentError\u001b[39;00m(\n\u001b[0;32m    422\u001b[0m         \u001b[38;5;124mf\u001b[39m\u001b[38;5;124m\"\u001b[39m\u001b[38;5;132;01m{\u001b[39;00mpath_or_repo_id\u001b[38;5;132;01m}\u001b[39;00m\u001b[38;5;124m is not a local folder and is not a valid model identifier \u001b[39m\u001b[38;5;124m\"\u001b[39m\n\u001b[0;32m    423\u001b[0m         \u001b[38;5;124m\"\u001b[39m\u001b[38;5;124mlisted on \u001b[39m\u001b[38;5;124m'\u001b[39m\u001b[38;5;124mhttps://huggingface.co/models\u001b[39m\u001b[38;5;124m'\u001b[39m\u001b[38;5;130;01m\\n\u001b[39;00m\u001b[38;5;124mIf this is a private repository, make sure to pass a token \u001b[39m\u001b[38;5;124m\"\u001b[39m\n\u001b[0;32m    424\u001b[0m         \u001b[38;5;124m\"\u001b[39m\u001b[38;5;124mhaving permission to this repo either by logging in with `huggingface-cli login` or by passing \u001b[39m\u001b[38;5;124m\"\u001b[39m\n\u001b[0;32m    425\u001b[0m         \u001b[38;5;124m\"\u001b[39m\u001b[38;5;124m`token=<your_token>`\u001b[39m\u001b[38;5;124m\"\u001b[39m\n\u001b[0;32m    426\u001b[0m     ) \u001b[38;5;28;01mfrom\u001b[39;00m \u001b[38;5;21;01me\u001b[39;00m\n\u001b[0;32m    427\u001b[0m \u001b[38;5;28;01mexcept\u001b[39;00m RevisionNotFoundError \u001b[38;5;28;01mas\u001b[39;00m e:\n\u001b[0;32m    428\u001b[0m     \u001b[38;5;28;01mraise\u001b[39;00m \u001b[38;5;167;01mEnvironmentError\u001b[39;00m(\n\u001b[0;32m    429\u001b[0m         \u001b[38;5;124mf\u001b[39m\u001b[38;5;124m\"\u001b[39m\u001b[38;5;132;01m{\u001b[39;00mrevision\u001b[38;5;132;01m}\u001b[39;00m\u001b[38;5;124m is not a valid git identifier (branch name, tag name or commit id) that exists \u001b[39m\u001b[38;5;124m\"\u001b[39m\n\u001b[0;32m    430\u001b[0m         \u001b[38;5;124m\"\u001b[39m\u001b[38;5;124mfor this model name. Check the model page at \u001b[39m\u001b[38;5;124m\"\u001b[39m\n\u001b[0;32m    431\u001b[0m         \u001b[38;5;124mf\u001b[39m\u001b[38;5;124m\"\u001b[39m\u001b[38;5;124m'\u001b[39m\u001b[38;5;124mhttps://huggingface.co/\u001b[39m\u001b[38;5;132;01m{\u001b[39;00mpath_or_repo_id\u001b[38;5;132;01m}\u001b[39;00m\u001b[38;5;124m'\u001b[39m\u001b[38;5;124m for available revisions.\u001b[39m\u001b[38;5;124m\"\u001b[39m\n\u001b[0;32m    432\u001b[0m     ) \u001b[38;5;28;01mfrom\u001b[39;00m \u001b[38;5;21;01me\u001b[39;00m\n",
      "\u001b[1;31mOSError\u001b[0m: WizardLM/WizardCoder-33B-V1.1 is not a local folder and is not a valid model identifier listed on 'https://huggingface.co/models'\nIf this is a private repository, make sure to pass a token having permission to this repo either by logging in with `huggingface-cli login` or by passing `token=<your_token>`"
     ]
    }
   ],
   "source": [
    "# check max tokens length with each LLM model\n",
    "from transformers import AutoTokenizer, AutoModelForSeq2SeqLM, pipeline, BitsAndBytesConfig\n",
    "\n",
    "import os\n",
    "\n",
    "HUGGING_FACE_API_KEY = os.environ.get(\"HUGGING_FACE_API_KEY\")\n",
    "\n",
    "models = [\n",
    "          \"01-ai/Yi-34B\",                               # AutoModelForCausalLM Model max_length:  4096 \n",
    "          \"Qwen/Qwen1.5-72B\",                           # AutoModelForCausalLM Model max_length:  32768 \n",
    "          \"WizardLM/WizardCoder-33B-V1.1\",              # AutoModelForCausalLM Model max_length:  16384 \n",
    "          \"WizardLM/WizardLM-70B-V1.0\",                 # AutoModelForCausalLM Model max_length:  4096 \n",
    "          \"CalderaAI/30B-Lazarus\",                      # AutoModelForCausalLM Model max_length:  2048 \n",
    "          \"TheBloke/Xwin-LM-70B-V0.1-GPTQ\",             # AutoModelForCausalLM Model max_length:  4096 \n",
    "          \"mosaicml/mpt-7b\",\n",
    "          \"mosaicml/mpt-30b-instruct\",                  #AutoModelForCausalLM Model max_length:  8192 \n",
    "          \"lmsys/vicuna-7b-v1.5\",                       # AutoModelForCausalLM Model max_length:  4096 \n",
    "          \"lmsys/vicuna-33b-v1.3\",                      # AutoModelForCausalLM Model max_length:  2048 \n",
    "          \"mistralai/Mixtral-8x7B-Instruct-v0.1\",       # AutoModelForSeq2SeqLM Model max_length:  1000000000000000019884624838656 \n",
    "          \"mistralai/Mistral-7B-Instruct-v0.2\",         # AutoModelForSeq2SeqLM Model max_length:  1000000000000000019884624838656 \n",
    "          \"jarradh/llama2_70b_chat_uncensored\",         # AutoModelForCausalLM Model max_length:  1000000000000000019884624838656\n",
    "          \"wolfram/miquliz-120b-v2.0\", \n",
    "          \"tiiuae/falcon-40b\",                          # AutoModelForCausalLM Model max_length:  2048 \n",
    "          \"tiiuae/falcon-7b\",                           # AutoModelForCausalLM Model max_length:  2048 \n",
    "          \"google/flan-t5-base\",                        # AutoModelForCausalLM Model max_length:  512 \n",
    "        #   \"google-bert/bert-base-uncased\"               # AutoModelForMaskedLM Model max_length:  512\n",
    "          \"bigscience/bloom\",                           # AutoModelForCausalLM Model max_length:  1000000000000000019884624838656 \n",
    "          \"microsoft/phi-1_5\",                          # AutoModelForCausalLM Model max_length:  2048 \n",
    "          \"microsoft/phi-2\",                            # AutoModelForCausalLM Model max_length:  2048 \n",
    "          \"togethercomputer/RedPajama-INCITE-7B-Base\",    # Model max_length:  2048 \n",
    "          \"openai-community/gpt2\",                      # AutoModelForCausalLM Model max_length:  1024 \n",
    "          \"HuggingFaceH4/zephyr-7b-beta\",               # AutoModelForCausalLM Model max_length:  1000000000000000019884624838656 \n",
    "        #   \"google/gemma-7b\",                            # \n",
    "          \"databricks/dolly-v2-3b\",                     # Model max_length:  1000000000000000019884624838656 \n",
    "          \"amu/spin-phi2\",                              # AutoModelForCausalLM Model max_length:  2048 \n",
    "          \"bofenghuang/vigogne-7b-chat\",                # AutoModelForCausalLM Model max_length:  2048 \n",
    "          \"bofenghuang/vigogne-33b-instruct\",           # AutoModelForCausalLM Model max_length:  2048 \n",
    "          \"bofenghuang/vigogne-2-70b-chat\",             # AutoModelForCausalLM Model max_length:  1000000000000000019884624838656 \n",
    "          \"core42/jais-13b\",                            # AutoModelForCausalLM Model max_length:  2048 \n",
    "          \"core42/jais-30b-v3\",                         # AutoModelForCausalLM Model max_length:  8192 \n",
    "          \"bertin-project/bertin-gpt-j-6B\",             # AutoModelForCausalLM Model max_length:  2048 \n",
    "        #   \"philschmid/instruct-igel-001\", # highest number of tokens, with huge difference compared to second highest              # AutoModelForSeq2SeqLM Model max_length:  1000000000000000019884624838656 \n",
    "          \"CallComply/Starling-LM-11B-alpha\",           # AutoModelForCausalLM Model max_length:  1000000000000000019884624838656 \n",
    "          \"chargoddard/Yi-34B-Llama\",                   # AutoModelForCausalLM Model max_length:  4096 \n",
    "          \"deepseek-ai/deepseek-llm-67b-chat\",          # AutoModelForCausalLM Model max_length:  4096 \n",
    "          \"deepseek-ai/deepseek-coder-33b-base\",        # AutoModelForSeq2SeqLM Model max_length:  16384 \n",
    "          \"deepseek-ai/deepseek-coder-33b-instruct\",    # AutoModelForSeq2SeqLM Model max_length:  16384 \n",
    "          \"v1olet/v1olet_marcoroni-go-bruins-merge-7B\", # AutoModelForCausalLM Model max_length:  1000000000000000019884624838656 \n",
    "          \"beberik/Nyxene-11B\",                         # AutoModelForCausalLM Model max_length:  2048 \n",
    "          \"fblgit/una-xaberius-34b-v1beta\",             # AutoModelForCausalLM Model max_length:  4096 \n",
    "          \"AbacusResearch/RasGulla1-7b\",                # AutoModelForCausalLM Model max_length:  1000000000000000019884624838656 \n",
    "          \"macadeliccc/laser-dolphin-mixtral-2x7b-dpo\", # AutoModelForCausalLM Model max_length:  1000000000000000019884624838656 \n",
    "          \"M4-ai/tau-0.5B\",                             # AutoModelForCausalLM Model max_length:  32768 \n",
    "          \"ibivibiv/alpaca-dragon-72b-v1\",              # AutoModelForCausalLM Model max_length:  4096 \n",
    "          \"allenai/tulu-2-dpo-70b\",                     # AutoModelForCausalLM Model max_length:  2048 \n",
    "          \"llSourcell/medllama2_7b\",                    # AutoModelForCausalLM Model max_length:  1000000000000000019884624838656 \n",
    "          \"axiong/PMC_LLaMA_13B\",                       # AutoModelForCausalLM Model max_length:  512 \n",
    "          \"AdaptLLM/medicine-LLM\",                      # AutoModelForCausalLM Model max_length:  2048 \n",
    "        # \"m42-health/med42-70b\",                       # AutoModelForCausalLM \n",
    "        # \"Flmc/DISC-MedLLM\",                           #  \n",
    "          \"augtoma/qCammel-70-x\",                       # AutoModelForCausalLM Model max_length:  1000000000000000019884624838656 \n",
    "          \"medalpaca/medalpaca-13b\",                    # AutoModelForCausalLM Model max_length:  512 \n",
    "        # \"zl111/ChatDoctor\",                           # AutoModelForCausalLM \n",
    "          \"stanford-crfm/BioMedLM\",                     # AutoModelForCausalLM Model max_length:  1024 \n",
    "          \"UFNLP/gatortron-medium\",                     # AutoModelForCausalLM Model max_length:  1000000000000000019884624838656 \n",
    "        #   \"wanglab/ClinicalCamel-70B\",                  # AutoModelForCausalLM\n",
    "          \"bionlp/bluebert_pubmed_uncased_L-12_H-768_A-12\",     # AutoModelForCausalLM Model max_length:  1000000000000000019884624838656 \n",
    "        #   \"meta-llama/Llama-2-70b-chat-hf\",             # \n",
    "        # \n",
    "          ]\n",
    "tokens_number = []\n",
    "for model_id in models:\n",
    "    \n",
    "    tokenizer = AutoTokenizer.from_pretrained(model_id, legacy=False, trust_remote_code=True)\n",
    "\n",
    "    tokens = tokenizer(prompt)\n",
    "    tokens_number.append(len(tokens['input_ids']))\n",
    "    print(\"Model name: \", model_id)\n",
    "    print(\"Token count:\", len(tokens['input_ids']))\n",
    "    print()\n",
    "    # print(\"Model max_length: \", tokenizer.model_max_length,\"\\n\\n\")"
   ]
  },
  {
   "cell_type": "code",
   "execution_count": 117,
   "metadata": {},
   "outputs": [
    {
     "data": {
      "image/png": "[encoded data removed]",
      "text/plain": [
       "<Figure size 600x400 with 1 Axes>"
      ]
     },
     "metadata": {},
     "output_type": "display_data"
    },
    {
     "name": "stdout",
     "output_type": "stream",
     "text": [
      "Mean: 1888.6274509803923\n",
      "Standard Deviation: 84.51057731323472\n"
     ]
    },
    {
     "data": {
      "image/png": "[encoded data removed]",
      "text/plain": [
       "<Figure size 600x400 with 1 Axes>"
      ]
     },
     "metadata": {},
     "output_type": "display_data"
    }
   ],
   "source": [
    "import matplotlib.pyplot as plt\n",
    "import numpy as np\n",
    "\n",
    "# Example token numbers\n",
    "\n",
    "# Calculate the five-number summary\n",
    "minimum = np.min(tokens_number)\n",
    "q1 = np.percentile(tokens_number, 25)\n",
    "median = np.median(tokens_number)\n",
    "q3 = np.percentile(tokens_number, 75)\n",
    "maximum = np.max(tokens_number)\n",
    "\n",
    "# Create a box plot\n",
    "plt.figure(figsize=(6, 4))\n",
    "plt.boxplot(tokens_number, vert=False, patch_artist=True, notch=True, widths=0.7, meanline=True, showmeans=True)\n",
    "plt.title('Box Plot of Token Numbers')\n",
    "plt.xlabel('Token Numbers')\n",
    "plt.grid(True)\n",
    "plt.show()\n",
    "\n",
    "# Calculate mean and standard deviation\n",
    "mean = np.mean(tokens_number)\n",
    "std_dev = np.std(tokens_number)\n",
    "\n",
    "# Print mean and standard deviation\n",
    "print(f\"Mean: {mean}\")\n",
    "print(f\"Standard Deviation: {std_dev}\")\n",
    "\n",
    "# Create a histogram\n",
    "plt.figure(figsize=(6, 4))\n",
    "plt.hist(tokens_number, bins=10, color='blue', alpha=0.7)\n",
    "plt.title('Histogram of Token Numbers')\n",
    "plt.xlabel('Token Numbers')\n",
    "plt.ylabel('Frequency')\n",
    "plt.grid(True)\n",
    "plt.show()\n"
   ]
  },
  {
   "cell_type": "code",
   "execution_count": 118,
   "metadata": {},
   "outputs": [
    {
     "data": {
      "text/plain": [
       "1980"
      ]
     },
     "execution_count": 118,
     "metadata": {},
     "output_type": "execute_result"
    }
   ],
   "source": [
    "max(tokens_number)"
   ]
  }
 ],
 "metadata": {
  "kernelspec": {
   "display_name": "Python 3",
   "language": "python",
   "name": "python3"
  },
  "language_info": {
   "codemirror_mode": {
    "name": "ipython",
    "version": 3
   },
   "file_extension": ".py",
   "mimetype": "text/x-python",
   "name": "python",
   "nbconvert_exporter": "python",
   "pygments_lexer": "ipython3",
   "version": "3.12.2"
  }
 },
 "nbformat": 4,
 "nbformat_minor": 2
}
